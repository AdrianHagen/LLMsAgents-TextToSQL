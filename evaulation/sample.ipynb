{
 "cells": [
  {
   "cell_type": "code",
   "execution_count": null,
   "metadata": {},
   "outputs": [
    {
     "data": {
      "text/html": [
       "<div>\n",
       "<style scoped>\n",
       "    .dataframe tbody tr th:only-of-type {\n",
       "        vertical-align: middle;\n",
       "    }\n",
       "\n",
       "    .dataframe tbody tr th {\n",
       "        vertical-align: top;\n",
       "    }\n",
       "\n",
       "    .dataframe thead th {\n",
       "        text-align: right;\n",
       "    }\n",
       "</style>\n",
       "<table border=\"1\" class=\"dataframe\">\n",
       "  <thead>\n",
       "    <tr style=\"text-align: right;\">\n",
       "      <th></th>\n",
       "      <th>question_id</th>\n",
       "      <th>db_id</th>\n",
       "      <th>question</th>\n",
       "      <th>evidence</th>\n",
       "      <th>SQL</th>\n",
       "      <th>difficulty</th>\n",
       "    </tr>\n",
       "  </thead>\n",
       "  <tbody>\n",
       "    <tr>\n",
       "      <th>0</th>\n",
       "      <td>0</td>\n",
       "      <td>california_schools</td>\n",
       "      <td>What is the highest eligible free rate for K-1...</td>\n",
       "      <td>Eligible free rate for K-12 = `Free Meal Count...</td>\n",
       "      <td>SELECT `Free Meal Count (K-12)` / `Enrollment ...</td>\n",
       "      <td>simple</td>\n",
       "    </tr>\n",
       "    <tr>\n",
       "      <th>1</th>\n",
       "      <td>1</td>\n",
       "      <td>california_schools</td>\n",
       "      <td>Please list the lowest three eligible free rat...</td>\n",
       "      <td>Eligible free rates for students aged 5-17 = `...</td>\n",
       "      <td>SELECT `Free Meal Count (Ages 5-17)` / `Enroll...</td>\n",
       "      <td>moderate</td>\n",
       "    </tr>\n",
       "    <tr>\n",
       "      <th>2</th>\n",
       "      <td>2</td>\n",
       "      <td>california_schools</td>\n",
       "      <td>Please list the zip code of all the charter sc...</td>\n",
       "      <td>Charter schools refers to `Charter School (Y/N...</td>\n",
       "      <td>SELECT T2.Zip FROM frpm AS T1 INNER JOIN schoo...</td>\n",
       "      <td>simple</td>\n",
       "    </tr>\n",
       "    <tr>\n",
       "      <th>3</th>\n",
       "      <td>3</td>\n",
       "      <td>california_schools</td>\n",
       "      <td>What is the unabbreviated mailing street addre...</td>\n",
       "      <td></td>\n",
       "      <td>SELECT T2.MailStreet FROM frpm AS T1 INNER JOI...</td>\n",
       "      <td>simple</td>\n",
       "    </tr>\n",
       "    <tr>\n",
       "      <th>4</th>\n",
       "      <td>4</td>\n",
       "      <td>california_schools</td>\n",
       "      <td>Please list the phone numbers of the direct ch...</td>\n",
       "      <td>Charter schools refers to `Charter School (Y/N...</td>\n",
       "      <td>SELECT T2.Phone FROM frpm AS T1 INNER JOIN sch...</td>\n",
       "      <td>moderate</td>\n",
       "    </tr>\n",
       "  </tbody>\n",
       "</table>\n",
       "</div>"
      ],
      "text/plain": [
       "   question_id               db_id  \\\n",
       "0            0  california_schools   \n",
       "1            1  california_schools   \n",
       "2            2  california_schools   \n",
       "3            3  california_schools   \n",
       "4            4  california_schools   \n",
       "\n",
       "                                            question  \\\n",
       "0  What is the highest eligible free rate for K-1...   \n",
       "1  Please list the lowest three eligible free rat...   \n",
       "2  Please list the zip code of all the charter sc...   \n",
       "3  What is the unabbreviated mailing street addre...   \n",
       "4  Please list the phone numbers of the direct ch...   \n",
       "\n",
       "                                            evidence  \\\n",
       "0  Eligible free rate for K-12 = `Free Meal Count...   \n",
       "1  Eligible free rates for students aged 5-17 = `...   \n",
       "2  Charter schools refers to `Charter School (Y/N...   \n",
       "3                                                      \n",
       "4  Charter schools refers to `Charter School (Y/N...   \n",
       "\n",
       "                                                 SQL difficulty  \n",
       "0  SELECT `Free Meal Count (K-12)` / `Enrollment ...     simple  \n",
       "1  SELECT `Free Meal Count (Ages 5-17)` / `Enroll...   moderate  \n",
       "2  SELECT T2.Zip FROM frpm AS T1 INNER JOIN schoo...     simple  \n",
       "3  SELECT T2.MailStreet FROM frpm AS T1 INNER JOI...     simple  \n",
       "4  SELECT T2.Phone FROM frpm AS T1 INNER JOIN sch...   moderate  "
      ]
     },
     "execution_count": 1,
     "metadata": {},
     "output_type": "execute_result"
    }
   ],
   "source": [
    "import pandas as pd\n",
    "\n",
    "df = pd.read_json(\"../data/dev/dev.json\")\n",
    "\n",
    "df.head()"
   ]
  },
  {
   "cell_type": "code",
   "execution_count": 8,
   "metadata": {},
   "outputs": [
    {
     "name": "stdout",
     "output_type": "stream",
     "text": [
      "difficulty\n",
      "simple         60.299870\n",
      "moderate       30.247718\n",
      "challenging     9.452412\n",
      "Name: proportion, dtype: float64\n"
     ]
    }
   ],
   "source": [
    "percentages = df[\"difficulty\"].value_counts(normalize=True) * 100\n",
    "\n",
    "print(percentages)"
   ]
  },
  {
   "cell_type": "code",
   "execution_count": 36,
   "metadata": {},
   "outputs": [
    {
     "data": {
      "text/plain": [
       "difficulty\n",
       "simple         63.0\n",
       "moderate       30.0\n",
       "challenging     7.0\n",
       "Name: proportion, dtype: float64"
      ]
     },
     "execution_count": 36,
     "metadata": {},
     "output_type": "execute_result"
    }
   ],
   "source": [
    "sample = df.sample(100 , random_state=0)\n",
    "\n",
    "sample_distribution = sample[\"difficulty\"].value_counts(normalize=True) * 100\n",
    "\n",
    "sample_distribution"
   ]
  },
  {
   "cell_type": "code",
   "execution_count": null,
   "metadata": {},
   "outputs": [],
   "source": [
    "os.makedirs(\"../sample\", exist_ok=True)\n",
    "\n",
    "sample.to_csv(\"../sample/dev.csv\", index=False)"
   ]
  }
 ],
 "metadata": {
  "kernelspec": {
   "display_name": "llmsagents-texttosql-L08Ttfzn-py3.13",
   "language": "python",
   "name": "python3"
  },
  "language_info": {
   "codemirror_mode": {
    "name": "ipython",
    "version": 3
   },
   "file_extension": ".py",
   "mimetype": "text/x-python",
   "name": "python",
   "nbconvert_exporter": "python",
   "pygments_lexer": "ipython3",
   "version": "3.13.0"
  }
 },
 "nbformat": 4,
 "nbformat_minor": 2
}
