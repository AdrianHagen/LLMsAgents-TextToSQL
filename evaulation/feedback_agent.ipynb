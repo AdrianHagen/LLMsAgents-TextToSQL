{
 "cells": [
  {
   "cell_type": "code",
   "execution_count": 1,
   "metadata": {},
   "outputs": [
    {
     "name": "stdout",
     "output_type": "stream",
     "text": [
      "['/Users/yannikhahn/Code/LLMsAgents-TextToSQL/src/agents', '/Users/yannikhahn/Code/LLMsAgents-TextToSQL/src', '/Users/yannikhahn/Code/LLMsAgents-TextToSQL/evaulation/src', '/opt/homebrew/Cellar/python@3.12/3.12.6/Frameworks/Python.framework/Versions/3.12/lib/python312.zip', '/opt/homebrew/Cellar/python@3.12/3.12.6/Frameworks/Python.framework/Versions/3.12/lib/python3.12', '/opt/homebrew/Cellar/python@3.12/3.12.6/Frameworks/Python.framework/Versions/3.12/lib/python3.12/lib-dynload', '', '/Users/yannikhahn/Library/Caches/pypoetry/virtualenvs/llmsagents-texttosql-JgGAmzxu-py3.12/lib/python3.12/site-packages']\n"
     ]
    },
    {
     "data": {
      "text/plain": [
       "True"
      ]
     },
     "execution_count": 1,
     "metadata": {},
     "output_type": "execute_result"
    }
   ],
   "source": [
    "import sys\n",
    "import os\n",
    "\n",
    "from dotenv import load_dotenv\n",
    "sys.path.insert(0, os.path.abspath('../src'))\n",
    "sys.path.insert(0, os.path.abspath('../src/agents'))\n",
    "print(sys.path)\n",
    "\n",
    "load_dotenv()"
   ]
  },
  {
   "cell_type": "code",
   "execution_count": 2,
   "metadata": {},
   "outputs": [
    {
     "data": {
      "text/html": [
       "<div>\n",
       "<style scoped>\n",
       "    .dataframe tbody tr th:only-of-type {\n",
       "        vertical-align: middle;\n",
       "    }\n",
       "\n",
       "    .dataframe tbody tr th {\n",
       "        vertical-align: top;\n",
       "    }\n",
       "\n",
       "    .dataframe thead th {\n",
       "        text-align: right;\n",
       "    }\n",
       "</style>\n",
       "<table border=\"1\" class=\"dataframe\">\n",
       "  <thead>\n",
       "    <tr style=\"text-align: right;\">\n",
       "      <th></th>\n",
       "      <th>question_id</th>\n",
       "      <th>db_id</th>\n",
       "      <th>question</th>\n",
       "      <th>evidence</th>\n",
       "      <th>SQL</th>\n",
       "      <th>difficulty</th>\n",
       "    </tr>\n",
       "  </thead>\n",
       "  <tbody>\n",
       "    <tr>\n",
       "      <th>0</th>\n",
       "      <td>479</td>\n",
       "      <td>card_games</td>\n",
       "      <td>Among the cards with converted mana cost highe...</td>\n",
       "      <td>card set Coldsnap refers to name = 'Coldsnap';...</td>\n",
       "      <td>SELECT SUM(CASE WHEN T1.power LIKE '*' OR T1.p...</td>\n",
       "      <td>moderate</td>\n",
       "    </tr>\n",
       "    <tr>\n",
       "      <th>1</th>\n",
       "      <td>1057</td>\n",
       "      <td>european_football_2</td>\n",
       "      <td>Calculate the average home team goal in the 20...</td>\n",
       "      <td>average home team goal = AVG(home_team_goal)= ...</td>\n",
       "      <td>SELECT CAST(SUM(t2.home_team_goal) AS REAL) / ...</td>\n",
       "      <td>moderate</td>\n",
       "    </tr>\n",
       "    <tr>\n",
       "      <th>2</th>\n",
       "      <td>1367</td>\n",
       "      <td>student_club</td>\n",
       "      <td>Which college do most of the members go to?</td>\n",
       "      <td>college most members go refers to MAX(COUNT(ma...</td>\n",
       "      <td>SELECT T2.college FROM member AS T1 INNER JOIN...</td>\n",
       "      <td>simple</td>\n",
       "    </tr>\n",
       "    <tr>\n",
       "      <th>3</th>\n",
       "      <td>298</td>\n",
       "      <td>toxicology</td>\n",
       "      <td>Calculate the percentage of molecules containi...</td>\n",
       "      <td>hydrogen refers to element = 'h'; label = '+' ...</td>\n",
       "      <td>SELECT CAST(COUNT(CASE WHEN T1.element = 'h' A...</td>\n",
       "      <td>moderate</td>\n",
       "    </tr>\n",
       "    <tr>\n",
       "      <th>4</th>\n",
       "      <td>651</td>\n",
       "      <td>codebase_community</td>\n",
       "      <td>Provide the related post title of \"How to tell...</td>\n",
       "      <td>NaN</td>\n",
       "      <td>SELECT T3.Title FROM postLinks AS T1 INNER JOI...</td>\n",
       "      <td>simple</td>\n",
       "    </tr>\n",
       "  </tbody>\n",
       "</table>\n",
       "</div>"
      ],
      "text/plain": [
       "   question_id                db_id  \\\n",
       "0          479           card_games   \n",
       "1         1057  european_football_2   \n",
       "2         1367         student_club   \n",
       "3          298           toxicology   \n",
       "4          651   codebase_community   \n",
       "\n",
       "                                            question  \\\n",
       "0  Among the cards with converted mana cost highe...   \n",
       "1  Calculate the average home team goal in the 20...   \n",
       "2        Which college do most of the members go to?   \n",
       "3  Calculate the percentage of molecules containi...   \n",
       "4  Provide the related post title of \"How to tell...   \n",
       "\n",
       "                                            evidence  \\\n",
       "0  card set Coldsnap refers to name = 'Coldsnap';...   \n",
       "1  average home team goal = AVG(home_team_goal)= ...   \n",
       "2  college most members go refers to MAX(COUNT(ma...   \n",
       "3  hydrogen refers to element = 'h'; label = '+' ...   \n",
       "4                                                NaN   \n",
       "\n",
       "                                                 SQL difficulty  \n",
       "0  SELECT SUM(CASE WHEN T1.power LIKE '*' OR T1.p...   moderate  \n",
       "1  SELECT CAST(SUM(t2.home_team_goal) AS REAL) / ...   moderate  \n",
       "2  SELECT T2.college FROM member AS T1 INNER JOIN...     simple  \n",
       "3  SELECT CAST(COUNT(CASE WHEN T1.element = 'h' A...   moderate  \n",
       "4  SELECT T3.Title FROM postLinks AS T1 INNER JOI...     simple  "
      ]
     },
     "execution_count": 2,
     "metadata": {},
     "output_type": "execute_result"
    }
   ],
   "source": [
    "import pandas as pd\n",
    "\n",
    "sample = pd.read_csv(\"../sample/dev.csv\")\n",
    "\n",
    "sample.head()"
   ]
  },
  {
   "cell_type": "code",
   "execution_count": 3,
   "metadata": {},
   "outputs": [
    {
     "data": {
      "text/plain": [
       "question_id    100\n",
       "db_id          100\n",
       "question       100\n",
       "evidence        90\n",
       "SQL            100\n",
       "difficulty     100\n",
       "dtype: int64"
      ]
     },
     "execution_count": 3,
     "metadata": {},
     "output_type": "execute_result"
    }
   ],
   "source": [
    "sample.count()"
   ]
  },
  {
   "cell_type": "code",
   "execution_count": 4,
   "metadata": {},
   "outputs": [],
   "source": [
    "from langchain_ollama.chat_models import ChatOllama\n",
    "from agents.feedback_agent import FeedbackAgent\n",
    "from prompt_templates.feedback_agent import ONE_SHOT, TWO_SHOT\n",
    "\n",
    "model_name = \"claude-3-5-sonnet-latest\"\n",
    "#llm = ChatOllama(model=\"mistral\")\n",
    "agent = FeedbackAgent(template=TWO_SHOT)\n",
    "model_type = \"two_shot\""
   ]
  },
  {
   "cell_type": "code",
   "execution_count": 7,
   "metadata": {},
   "outputs": [
    {
     "data": {
      "application/vnd.jupyter.widget-view+json": {
       "model_id": "76a2a54aac5542838fc722f173e120f0",
       "version_major": 2,
       "version_minor": 0
      },
      "text/plain": [
       "Evaluating claude-3-5-sonnet-latest:  17%|#7        | 17/100 [00:00<?, ?it/s]"
      ]
     },
     "metadata": {},
     "output_type": "display_data"
    },
    {
     "name": "stdout",
     "output_type": "stream",
     "text": [
      "Difficulty: simple | Model Correct: True\n",
      "Difficulty: simple | Model Correct: True\n",
      "JSON Parser failed : Invalid control character at: line 4 column 95 (char 161)\n",
      "Difficulty: simple | Model Correct: True\n",
      "Difficulty: simple | Model Correct: True\n",
      "Difficulty: simple | Model Correct: False\n",
      "Difficulty: moderate | Model Correct: True\n",
      "Difficulty: moderate | Model Correct: True\n",
      "Difficulty: simple | Model Correct: True\n",
      "Difficulty: simple | Model Correct: True\n",
      "Difficulty: simple | Model Correct: False\n",
      "Difficulty: simple | Model Correct: True\n",
      "Difficulty: simple | Model Correct: True\n",
      "Difficulty: challenging | Model Correct: True\n",
      "Difficulty: challenging | Model Correct: True\n",
      "Difficulty: simple | Model Correct: True\n",
      "Difficulty: moderate | Model Correct: False\n",
      "Difficulty: simple | Model Correct: True\n",
      "Difficulty: moderate | Model Correct: True\n",
      "Difficulty: moderate | Model Correct: False\n",
      "Difficulty: moderate | Model Correct: False\n",
      "Difficulty: simple | Model Correct: True\n",
      "Difficulty: simple | Model Correct: True\n",
      "Difficulty: simple | Model Correct: True\n",
      "Difficulty: simple | Model Correct: False\n",
      "Difficulty: moderate | Model Correct: True\n",
      "JSON Parser failed : Invalid control character at: line 5 column 54 (char 942)\n",
      "Difficulty: simple | Model Correct: True\n",
      "Difficulty: moderate | Model Correct: False\n",
      "Difficulty: moderate | Model Correct: False\n",
      "Difficulty: challenging | Model Correct: True\n",
      "Difficulty: simple | Model Correct: True\n",
      "Difficulty: simple | Model Correct: False\n",
      "Difficulty: simple | Model Correct: True\n",
      "Difficulty: simple | Model Correct: True\n",
      "Difficulty: simple | Model Correct: False\n",
      "Difficulty: simple | Model Correct: False\n",
      "JSON Parser failed : Extra data: line 8 column 1 (char 519)\n",
      "Difficulty: moderate | Model Correct: False\n",
      "Difficulty: simple | Model Correct: True\n",
      "Difficulty: simple | Model Correct: False\n",
      "Difficulty: simple | Model Correct: True\n",
      "Difficulty: simple | Model Correct: True\n",
      "Difficulty: simple | Model Correct: True\n",
      "Difficulty: moderate | Model Correct: True\n",
      "Difficulty: simple | Model Correct: True\n",
      "Difficulty: simple | Model Correct: True\n",
      "Difficulty: simple | Model Correct: True\n",
      "Difficulty: moderate | Model Correct: False\n",
      "Difficulty: simple | Model Correct: True\n",
      "Difficulty: challenging | Model Correct: True\n",
      "Difficulty: simple | Model Correct: True\n",
      "Difficulty: moderate | Model Correct: True\n",
      "Difficulty: simple | Model Correct: True\n",
      "Difficulty: simple | Model Correct: False\n",
      "Difficulty: simple | Model Correct: True\n",
      "Difficulty: simple | Model Correct: False\n",
      "Difficulty: moderate | Model Correct: False\n",
      "Difficulty: simple | Model Correct: False\n",
      "Difficulty: simple | Model Correct: False\n",
      "Difficulty: challenging | Model Correct: True\n",
      "Difficulty: simple | Model Correct: False\n",
      "Difficulty: simple | Model Correct: True\n",
      "Difficulty: moderate | Model Correct: False\n",
      "Difficulty: simple | Model Correct: True\n",
      "Difficulty: moderate | Model Correct: False\n",
      "JSON Parser failed : Invalid control character at: line 4 column 72 (char 141)\n"
     ]
    },
    {
     "name": "stderr",
     "output_type": "stream",
     "text": [
      "Exception ignored in: <function Database.__del__ at 0x1369c8400>\n",
      "Traceback (most recent call last):\n",
      "  File \"/Users/yannikhahn/Code/LLMsAgents-TextToSQL/src/tools/database.py\", line 29, in __del__\n",
      "    self.connection.close()\n",
      "sqlite3.ProgrammingError: SQLite objects created in a thread can only be used in that same thread. The object was created in thread id 8514449984 and this is thread id 6188445696.\n",
      "Exception ignored in: <function Database.__del__ at 0x1369c8400>\n",
      "Traceback (most recent call last):\n",
      "  File \"/Users/yannikhahn/Code/LLMsAgents-TextToSQL/src/tools/database.py\", line 29, in __del__\n",
      "    self.connection.close()\n",
      "sqlite3.ProgrammingError: SQLite objects created in a thread can only be used in that same thread. The object was created in thread id 8514449984 and this is thread id 6188445696.\n"
     ]
    },
    {
     "name": "stdout",
     "output_type": "stream",
     "text": [
      "Difficulty: simple | Model Correct: True\n",
      "Difficulty: simple | Model Correct: False\n",
      "Difficulty: moderate | Model Correct: True\n",
      "Difficulty: simple | Model Correct: True\n",
      "Difficulty: moderate | Model Correct: True\n",
      "Difficulty: simple | Model Correct: True\n",
      "Difficulty: simple | Model Correct: True\n",
      "Difficulty: simple | Model Correct: True\n",
      "Difficulty: moderate | Model Correct: True\n",
      "Difficulty: simple | Model Correct: False\n",
      "Difficulty: simple | Model Correct: True\n",
      "Difficulty: simple | Model Correct: False\n",
      "Difficulty: simple | Model Correct: True\n",
      "Difficulty: simple | Model Correct: True\n",
      "Difficulty: moderate | Model Correct: True\n",
      "Difficulty: simple | Model Correct: True\n"
     ]
    }
   ],
   "source": [
    "from tqdm.notebook import tqdm\n",
    "import os\n",
    "\n",
    "os.makedirs(f\"./runs/{model_name}\", exist_ok=True)\n",
    "\n",
    "start = 29\n",
    "\n",
    "evaluation = pd.read_csv(f\"./runs/{model_name}/{model_type}.csv\").to_dict(orient=\"records\")\n",
    "\n",
    "for row in tqdm(\n",
    "    sample[start:len(sample)].itertuples(index=False),\n",
    "    total=len(sample),\n",
    "    initial=start,\n",
    "    desc=f\"Evaluating {model_name}: \",\n",
    "):\n",
    "    response = agent._evaluate_query(\n",
    "        database=row.db_id, original_question=row.question, generated_sql_query=row.SQL\n",
    "    )\n",
    "    if response:\n",
    "        print(f\"Difficulty: {row.difficulty} | Model Correct: {response[\"is_correct\"]}\")\n",
    "        is_correct = response[\"is_correct\"]\n",
    "        successful_run = response[\"query_result\"] != \"error\"\n",
    "        feedback = response[\"feedback\"]\n",
    "    else:\n",
    "        is_correct = False\n",
    "        successful_run = False\n",
    "        feedback = \"LLM Failure\"\n",
    "\n",
    "    evaluation.append(\n",
    "        {\n",
    "            \"question_id\": row.question_id,\n",
    "            \"is_correct\": is_correct,\n",
    "            \"difficulty\": row.difficulty,\n",
    "            \"successful_run\": successful_run,\n",
    "            \"feedback\": feedback,\n",
    "        }\n",
    "    )\n",
    "    df = pd.DataFrame(evaluation)\n",
    "    df.to_csv(f\"./runs/{model_name}/{model_type}.csv\", index=False)"
   ]
  },
  {
   "cell_type": "code",
   "execution_count": null,
   "metadata": {},
   "outputs": [
    {
     "name": "stdout",
     "output_type": "stream",
     "text": [
      "Accuracy: 70.65%\n"
     ]
    }
   ],
   "source": [
    "accuracy = df[\"is_correct\"].mean()\n",
    "print(f\"Accuracy: {accuracy * 100:.2f}%\")"
   ]
  },
  {
   "cell_type": "code",
   "execution_count": null,
   "metadata": {},
   "outputs": [
    {
     "data": {
      "image/png": "[encoded data removed]",
      "text/plain": [
       "<Figure size 1000x600 with 2 Axes>"
      ]
     },
     "metadata": {},
     "output_type": "display_data"
    }
   ],
   "source": [
    "import matplotlib.pyplot as plt\n",
    "import pandas as pd\n",
    "\n",
    "# Ensure all indices align with sorted difficulties\n",
    "difficulty_order = sorted(df[\"difficulty\"].unique())\n",
    "\n",
    "# Calculate metrics, ensuring alignment\n",
    "accuracy_per_difficulty = (\n",
    "    df.groupby(\"difficulty\")[\"is_correct\"]\n",
    "    .mean()\n",
    "    .reindex(difficulty_order, fill_value=0)\n",
    ")\n",
    "successful_examples = (\n",
    "    df[df[\"successful_run\"] == True][\"difficulty\"]\n",
    "    .value_counts()\n",
    "    .reindex(difficulty_order, fill_value=0)\n",
    ")\n",
    "unsuccessful_examples = (\n",
    "    df[df[\"successful_run\"] == False][\"difficulty\"]\n",
    "    .value_counts()\n",
    "    .reindex(difficulty_order, fill_value=0)\n",
    ")\n",
    "\n",
    "# Calculate total examples for consistency (or use successful + unsuccessful)\n",
    "examples_per_difficulty = successful_examples + unsuccessful_examples\n",
    "\n",
    "fig, ax1 = plt.subplots(figsize=(10, 6))  # Adjust figure size if needed\n",
    "\n",
    "# Plot accuracy per difficulty\n",
    "color = \"tab:blue\"\n",
    "ax1.set_xlabel(\"Difficulty\")\n",
    "ax1.set_ylabel(\"Accuracy\", color=color)\n",
    "ax1.bar(\n",
    "    difficulty_order,\n",
    "    accuracy_per_difficulty,\n",
    "    color=color,\n",
    "    label=\"Accuracy\",\n",
    "    width=0.3,\n",
    "    align=\"center\",\n",
    ")\n",
    "ax1.tick_params(axis=\"y\", labelcolor=color)\n",
    "\n",
    "# Create a secondary y-axis to plot examples\n",
    "ax2 = ax1.twinx()\n",
    "ax2.set_ylabel(\"Number of Examples\")\n",
    "\n",
    "# Plot examples and unsuccessful runs per difficulty\n",
    "width = 0.3  # Adjust bar width\n",
    "positions = range(len(difficulty_order))  # Shared x-axis positions\n",
    "\n",
    "# Stacked bar: successful and unsuccessful runs\n",
    "ax2.bar(\n",
    "    [p + width for p in positions],\n",
    "    successful_examples,\n",
    "    color=\"tab:green\",\n",
    "    label=\"Successful Examples\",\n",
    "    width=width,\n",
    "    align=\"center\",\n",
    ")\n",
    "ax2.bar(\n",
    "    [p + width for p in positions],\n",
    "    unsuccessful_examples,\n",
    "    bottom=successful_examples,\n",
    "    color=\"tab:red\",\n",
    "    label=\"Unsuccessful Examples\",\n",
    "    width=width,\n",
    "    align=\"center\",\n",
    ")\n",
    "\n",
    "# Customize tick positions and labels\n",
    "ax1.set_xticks([p + width for p in positions])\n",
    "ax1.set_xticklabels(difficulty_order)\n",
    "\n",
    "ax1.grid(False)\n",
    "ax2.grid(False)\n",
    "\n",
    "# Adjust legend placement\n",
    "fig.legend(\n",
    "    loc=\"upper left\",\n",
    "    bbox_to_anchor=(0.1, 0.9),\n",
    "    bbox_transform=ax1.transAxes,\n",
    "    frameon=False,\n",
    ")\n",
    "\n",
    "# Add title\n",
    "plt.title(\"Accuracy, Number of Examples, and Unsuccessful Runs per Difficulty\")\n",
    "\n",
    "# Save the figure\n",
    "fig.savefig(f\"runs/{model_name}/{model_type}.png\")\n",
    "\n",
    "fig.tight_layout()\n",
    "plt.show()"
   ]
  }
 ],
 "metadata": {
  "kernelspec": {
   "display_name": "llmsagents-texttosql-JgGAmzxu-py3.12",
   "language": "python",
   "name": "python3"
  },
  "language_info": {
   "codemirror_mode": {
    "name": "ipython",
    "version": 3
   },
   "file_extension": ".py",
   "mimetype": "text/x-python",
   "name": "python",
   "nbconvert_exporter": "python",
   "pygments_lexer": "ipython3",
   "version": "3.12.6"
  }
 },
 "nbformat": 4,
 "nbformat_minor": 2
}
