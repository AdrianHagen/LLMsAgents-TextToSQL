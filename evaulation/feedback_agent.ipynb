{
 "cells": [
  {
   "cell_type": "code",
   "execution_count": 1,
   "metadata": {},
   "outputs": [
    {
     "name": "stdout",
     "output_type": "stream",
     "text": [
      "['/home/yannik/coding-native/LLMsAgents-TextToSQL/src', '/home/linuxbrew/.linuxbrew/Cellar/python@3.13/3.13.0_1/lib/python313.zip', '/home/linuxbrew/.linuxbrew/Cellar/python@3.13/3.13.0_1/lib/python3.13', '/home/linuxbrew/.linuxbrew/Cellar/python@3.13/3.13.0_1/lib/python3.13/lib-dynload', '', '/home/yannik/.cache/pypoetry/virtualenvs/llmsagents-texttosql-L08Ttfzn-py3.13/lib/python3.13/site-packages']\n"
     ]
    },
    {
     "data": {
      "text/plain": [
       "True"
      ]
     },
     "execution_count": 1,
     "metadata": {},
     "output_type": "execute_result"
    }
   ],
   "source": [
    "import sys\n",
    "\n",
    "from dotenv import load_dotenv\n",
    "sys.path.insert(0, os.path.abspath('../src'))\n",
    "print(sys.path)\n",
    "\n",
    "load_dotenv()"
   ]
  },
  {
   "cell_type": "code",
   "execution_count": 2,
   "metadata": {},
   "outputs": [
    {
     "data": {
      "text/html": [
       "<div>\n",
       "<style scoped>\n",
       "    .dataframe tbody tr th:only-of-type {\n",
       "        vertical-align: middle;\n",
       "    }\n",
       "\n",
       "    .dataframe tbody tr th {\n",
       "        vertical-align: top;\n",
       "    }\n",
       "\n",
       "    .dataframe thead th {\n",
       "        text-align: right;\n",
       "    }\n",
       "</style>\n",
       "<table border=\"1\" class=\"dataframe\">\n",
       "  <thead>\n",
       "    <tr style=\"text-align: right;\">\n",
       "      <th></th>\n",
       "      <th>question_id</th>\n",
       "      <th>db_id</th>\n",
       "      <th>question</th>\n",
       "      <th>evidence</th>\n",
       "      <th>SQL</th>\n",
       "      <th>difficulty</th>\n",
       "    </tr>\n",
       "  </thead>\n",
       "  <tbody>\n",
       "    <tr>\n",
       "      <th>0</th>\n",
       "      <td>0</td>\n",
       "      <td>california_schools</td>\n",
       "      <td>What is the highest eligible free rate for K-1...</td>\n",
       "      <td>Eligible free rate for K-12 = `Free Meal Count...</td>\n",
       "      <td>SELECT `Free Meal Count (K-12)` / `Enrollment ...</td>\n",
       "      <td>simple</td>\n",
       "    </tr>\n",
       "    <tr>\n",
       "      <th>1</th>\n",
       "      <td>1</td>\n",
       "      <td>california_schools</td>\n",
       "      <td>Please list the lowest three eligible free rat...</td>\n",
       "      <td>Eligible free rates for students aged 5-17 = `...</td>\n",
       "      <td>SELECT `Free Meal Count (Ages 5-17)` / `Enroll...</td>\n",
       "      <td>moderate</td>\n",
       "    </tr>\n",
       "    <tr>\n",
       "      <th>2</th>\n",
       "      <td>2</td>\n",
       "      <td>california_schools</td>\n",
       "      <td>Please list the zip code of all the charter sc...</td>\n",
       "      <td>Charter schools refers to `Charter School (Y/N...</td>\n",
       "      <td>SELECT T2.Zip FROM frpm AS T1 INNER JOIN schoo...</td>\n",
       "      <td>simple</td>\n",
       "    </tr>\n",
       "    <tr>\n",
       "      <th>3</th>\n",
       "      <td>3</td>\n",
       "      <td>california_schools</td>\n",
       "      <td>What is the unabbreviated mailing street addre...</td>\n",
       "      <td></td>\n",
       "      <td>SELECT T2.MailStreet FROM frpm AS T1 INNER JOI...</td>\n",
       "      <td>simple</td>\n",
       "    </tr>\n",
       "    <tr>\n",
       "      <th>4</th>\n",
       "      <td>4</td>\n",
       "      <td>california_schools</td>\n",
       "      <td>Please list the phone numbers of the direct ch...</td>\n",
       "      <td>Charter schools refers to `Charter School (Y/N...</td>\n",
       "      <td>SELECT T2.Phone FROM frpm AS T1 INNER JOIN sch...</td>\n",
       "      <td>moderate</td>\n",
       "    </tr>\n",
       "  </tbody>\n",
       "</table>\n",
       "</div>"
      ],
      "text/plain": [
       "   question_id               db_id  \\\n",
       "0            0  california_schools   \n",
       "1            1  california_schools   \n",
       "2            2  california_schools   \n",
       "3            3  california_schools   \n",
       "4            4  california_schools   \n",
       "\n",
       "                                            question  \\\n",
       "0  What is the highest eligible free rate for K-1...   \n",
       "1  Please list the lowest three eligible free rat...   \n",
       "2  Please list the zip code of all the charter sc...   \n",
       "3  What is the unabbreviated mailing street addre...   \n",
       "4  Please list the phone numbers of the direct ch...   \n",
       "\n",
       "                                            evidence  \\\n",
       "0  Eligible free rate for K-12 = `Free Meal Count...   \n",
       "1  Eligible free rates for students aged 5-17 = `...   \n",
       "2  Charter schools refers to `Charter School (Y/N...   \n",
       "3                                                      \n",
       "4  Charter schools refers to `Charter School (Y/N...   \n",
       "\n",
       "                                                 SQL difficulty  \n",
       "0  SELECT `Free Meal Count (K-12)` / `Enrollment ...     simple  \n",
       "1  SELECT `Free Meal Count (Ages 5-17)` / `Enroll...   moderate  \n",
       "2  SELECT T2.Zip FROM frpm AS T1 INNER JOIN schoo...     simple  \n",
       "3  SELECT T2.MailStreet FROM frpm AS T1 INNER JOI...     simple  \n",
       "4  SELECT T2.Phone FROM frpm AS T1 INNER JOIN sch...   moderate  "
      ]
     },
     "execution_count": 2,
     "metadata": {},
     "output_type": "execute_result"
    }
   ],
   "source": [
    "import pandas as pd\n",
    "\n",
    "data = pd.read_json('../data/dev/dev.json')\n",
    "\n",
    "data.head()"
   ]
  },
  {
   "cell_type": "code",
   "execution_count": 3,
   "metadata": {},
   "outputs": [
    {
     "data": {
      "text/plain": [
       "question_id    1534\n",
       "db_id          1534\n",
       "question       1534\n",
       "evidence       1534\n",
       "SQL            1534\n",
       "difficulty     1534\n",
       "dtype: int64"
      ]
     },
     "execution_count": 3,
     "metadata": {},
     "output_type": "execute_result"
    }
   ],
   "source": [
    "data.count()"
   ]
  },
  {
   "cell_type": "code",
   "execution_count": 4,
   "metadata": {},
   "outputs": [],
   "source": [
    "from langchain_ollama.chat_models import ChatOllama\n",
    "from agents.feedback_agent import FeedbackAgent\n",
    "\n",
    "model_name = \"mistral\"\n",
    "llm = ChatOllama(model=model_name)\n",
    "agent = FeedbackAgent(llm)"
   ]
  },
  {
   "cell_type": "code",
   "execution_count": 5,
   "metadata": {},
   "outputs": [],
   "source": [
    "start = 89\n",
    "end = 100"
   ]
  },
  {
   "cell_type": "code",
   "execution_count": null,
   "metadata": {},
   "outputs": [
    {
     "data": {
      "application/vnd.jupyter.widget-view+json": {
       "model_id": "6ef94f43b99c4832803781b857744a1c",
       "version_major": 2,
       "version_minor": 0
      },
      "text/plain": [
       "Evaluating mistral: : 89it [00:00, ?it/s]"
      ]
     },
     "metadata": {},
     "output_type": "display_data"
    }
   ],
   "source": [
    "from tqdm.notebook import tqdm\n",
    "\n",
    "evaluation = []\n",
    "for row in tqdm(\n",
    "    data[start:end].itertuples(index=False),\n",
    "    total=len(data[start:end]),\n",
    "    initial=start,\n",
    "    desc=f\"Evaluating {model_name}: \",\n",
    "):\n",
    "    response = agent.evaluate_query(\n",
    "        database=row.db_id, original_question=row.question, generated_sql_query=row.SQL\n",
    "    )\n",
    "    if response:\n",
    "        is_correct = response[\"is_correct\"]\n",
    "        successful_run = response[\"query_result\"] != \"error\"\n",
    "        feedback = response[\"feedback\"]\n",
    "    else:\n",
    "        is_correct = False\n",
    "        successful_run = False\n",
    "        feedback = \"LLM Failure\"\n",
    "\n",
    "    evaluation.append(\n",
    "        {\n",
    "            \"question_id\": row.question_id,\n",
    "            \"is_correct\": is_correct,\n",
    "            \"difficulty\": row.difficulty,\n",
    "            \"successful_run\": successful_run,\n",
    "            \"feedback\": feedback,\n",
    "        }\n",
    "    )"
   ]
  },
  {
   "cell_type": "code",
   "execution_count": 7,
   "metadata": {},
   "outputs": [],
   "source": [
    "df = pd.DataFrame(evaluation)\n",
    "df.to_csv(f\"./runs/{model_name}/batch_{start}_{end}.csv\", index=False)"
   ]
  },
  {
   "cell_type": "code",
   "execution_count": 15,
   "metadata": {},
   "outputs": [],
   "source": [
    "import os\n",
    "import glob\n",
    "\n",
    "# Define the path to the batch files\n",
    "batch_files_path = \"./runs/mistral/batch_*.csv\"\n",
    "\n",
    "# Get a list of all batch files\n",
    "batch_files = glob.glob(batch_files_path)\n",
    "\n",
    "# Read and concatenate all batch files\n",
    "final_df = pd.concat((pd.read_csv(f) for f in batch_files), ignore_index=True)\n",
    "\n",
    "# Sort the final DataFrame by question_id\n",
    "final_df = final_df.sort_values(by=\"question_id\")\n",
    "\n",
    "# Save the final DataFrame to a new CSV file\n",
    "final_df.to_csv(\"./runs/mistral/final_evaluation.csv\", index=False)"
   ]
  },
  {
   "cell_type": "code",
   "execution_count": 16,
   "metadata": {},
   "outputs": [
    {
     "name": "stdout",
     "output_type": "stream",
     "text": [
      "Accuracy: 45.00%\n"
     ]
    }
   ],
   "source": [
    "accuracy = final_df[\"is_correct\"].mean()\n",
    "print(f\"Accuracy: {accuracy * 100:.2f}%\")"
   ]
  },
  {
   "cell_type": "code",
   "execution_count": 18,
   "metadata": {},
   "outputs": [
    {
     "data": {
      "image/png": "[encoded data removed]",
      "text/plain": [
       "<Figure size 640x480 with 2 Axes>"
      ]
     },
     "metadata": {},
     "output_type": "display_data"
    }
   ],
   "source": [
    "import matplotlib.pyplot as plt\n",
    "\n",
    "# Calculate accuracy per difficulty\n",
    "accuracy_per_difficulty = final_df.groupby(\"difficulty\")[\"is_correct\"].mean()\n",
    "\n",
    "# Calculate number of examples per difficulty\n",
    "examples_per_difficulty = final_df[\"difficulty\"].value_counts()\n",
    "\n",
    "fig, ax1 = plt.subplots()\n",
    "\n",
    "# Plot accuracy per difficulty\n",
    "color = \"tab:blue\"\n",
    "ax1.set_xlabel(\"Difficulty\")\n",
    "ax1.set_ylabel(\"Accuracy\", color=color)\n",
    "accuracy_per_difficulty.plot(kind=\"bar\", ax=ax1, color=color, position=0, width=0.4)\n",
    "ax1.tick_params(axis=\"y\", labelcolor=color)\n",
    "\n",
    "# Create a secondary y-axis to plot the number of examples\n",
    "ax2 = ax1.twinx()\n",
    "color = \"tab:orange\"\n",
    "ax2.set_ylabel(\"Number of Examples\", color=color)\n",
    "examples_per_difficulty.plot(kind=\"bar\", ax=ax2, color=color, position=1, width=0.4)\n",
    "ax2.tick_params(axis=\"y\", labelcolor=color)\n",
    "\n",
    "plt.title(\"Accuracy and Number of Examples per Difficulty\")\n",
    "fig.tight_layout()\n",
    "plt.show()"
   ]
  }
 ],
 "metadata": {
  "kernelspec": {
   "display_name": "llmsagents-texttosql-L08Ttfzn-py3.13",
   "language": "python",
   "name": "python3"
  },
  "language_info": {
   "codemirror_mode": {
    "name": "ipython",
    "version": 3
   },
   "file_extension": ".py",
   "mimetype": "text/x-python",
   "name": "python",
   "nbconvert_exporter": "python",
   "pygments_lexer": "ipython3",
   "version": "3.13.0"
  }
 },
 "nbformat": 4,
 "nbformat_minor": 2
}
