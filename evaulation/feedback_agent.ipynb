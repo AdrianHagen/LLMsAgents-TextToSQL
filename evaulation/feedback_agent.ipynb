{
 "cells": [
  {
   "cell_type": "code",
   "execution_count": 1,
   "metadata": {},
   "outputs": [
    {
     "name": "stdout",
     "output_type": "stream",
     "text": [
      "['/home/yannik/coding-native/LLMsAgents-TextToSQL/src', '/home/linuxbrew/.linuxbrew/Cellar/python@3.13/3.13.0_1/lib/python313.zip', '/home/linuxbrew/.linuxbrew/Cellar/python@3.13/3.13.0_1/lib/python3.13', '/home/linuxbrew/.linuxbrew/Cellar/python@3.13/3.13.0_1/lib/python3.13/lib-dynload', '', '/home/yannik/.cache/pypoetry/virtualenvs/llmsagents-texttosql-L08Ttfzn-py3.13/lib/python3.13/site-packages']\n"
     ]
    }
   ],
   "source": [
    "import sys\n",
    "sys.path.insert(0, os.path.abspath('../src'))\n",
    "print(sys.path)"
   ]
  },
  {
   "cell_type": "code",
   "execution_count": 2,
   "metadata": {},
   "outputs": [
    {
     "data": {
      "text/html": [
       "<div>\n",
       "<style scoped>\n",
       "    .dataframe tbody tr th:only-of-type {\n",
       "        vertical-align: middle;\n",
       "    }\n",
       "\n",
       "    .dataframe tbody tr th {\n",
       "        vertical-align: top;\n",
       "    }\n",
       "\n",
       "    .dataframe thead th {\n",
       "        text-align: right;\n",
       "    }\n",
       "</style>\n",
       "<table border=\"1\" class=\"dataframe\">\n",
       "  <thead>\n",
       "    <tr style=\"text-align: right;\">\n",
       "      <th></th>\n",
       "      <th>question_id</th>\n",
       "      <th>db_id</th>\n",
       "      <th>question</th>\n",
       "      <th>evidence</th>\n",
       "      <th>SQL</th>\n",
       "      <th>difficulty</th>\n",
       "    </tr>\n",
       "  </thead>\n",
       "  <tbody>\n",
       "    <tr>\n",
       "      <th>0</th>\n",
       "      <td>0</td>\n",
       "      <td>california_schools</td>\n",
       "      <td>What is the highest eligible free rate for K-1...</td>\n",
       "      <td>Eligible free rate for K-12 = `Free Meal Count...</td>\n",
       "      <td>SELECT `Free Meal Count (K-12)` / `Enrollment ...</td>\n",
       "      <td>simple</td>\n",
       "    </tr>\n",
       "    <tr>\n",
       "      <th>1</th>\n",
       "      <td>1</td>\n",
       "      <td>california_schools</td>\n",
       "      <td>Please list the lowest three eligible free rat...</td>\n",
       "      <td>Eligible free rates for students aged 5-17 = `...</td>\n",
       "      <td>SELECT `Free Meal Count (Ages 5-17)` / `Enroll...</td>\n",
       "      <td>moderate</td>\n",
       "    </tr>\n",
       "    <tr>\n",
       "      <th>2</th>\n",
       "      <td>2</td>\n",
       "      <td>california_schools</td>\n",
       "      <td>Please list the zip code of all the charter sc...</td>\n",
       "      <td>Charter schools refers to `Charter School (Y/N...</td>\n",
       "      <td>SELECT T2.Zip FROM frpm AS T1 INNER JOIN schoo...</td>\n",
       "      <td>simple</td>\n",
       "    </tr>\n",
       "    <tr>\n",
       "      <th>3</th>\n",
       "      <td>3</td>\n",
       "      <td>california_schools</td>\n",
       "      <td>What is the unabbreviated mailing street addre...</td>\n",
       "      <td></td>\n",
       "      <td>SELECT T2.MailStreet FROM frpm AS T1 INNER JOI...</td>\n",
       "      <td>simple</td>\n",
       "    </tr>\n",
       "    <tr>\n",
       "      <th>4</th>\n",
       "      <td>4</td>\n",
       "      <td>california_schools</td>\n",
       "      <td>Please list the phone numbers of the direct ch...</td>\n",
       "      <td>Charter schools refers to `Charter School (Y/N...</td>\n",
       "      <td>SELECT T2.Phone FROM frpm AS T1 INNER JOIN sch...</td>\n",
       "      <td>moderate</td>\n",
       "    </tr>\n",
       "  </tbody>\n",
       "</table>\n",
       "</div>"
      ],
      "text/plain": [
       "   question_id               db_id  \\\n",
       "0            0  california_schools   \n",
       "1            1  california_schools   \n",
       "2            2  california_schools   \n",
       "3            3  california_schools   \n",
       "4            4  california_schools   \n",
       "\n",
       "                                            question  \\\n",
       "0  What is the highest eligible free rate for K-1...   \n",
       "1  Please list the lowest three eligible free rat...   \n",
       "2  Please list the zip code of all the charter sc...   \n",
       "3  What is the unabbreviated mailing street addre...   \n",
       "4  Please list the phone numbers of the direct ch...   \n",
       "\n",
       "                                            evidence  \\\n",
       "0  Eligible free rate for K-12 = `Free Meal Count...   \n",
       "1  Eligible free rates for students aged 5-17 = `...   \n",
       "2  Charter schools refers to `Charter School (Y/N...   \n",
       "3                                                      \n",
       "4  Charter schools refers to `Charter School (Y/N...   \n",
       "\n",
       "                                                 SQL difficulty  \n",
       "0  SELECT `Free Meal Count (K-12)` / `Enrollment ...     simple  \n",
       "1  SELECT `Free Meal Count (Ages 5-17)` / `Enroll...   moderate  \n",
       "2  SELECT T2.Zip FROM frpm AS T1 INNER JOIN schoo...     simple  \n",
       "3  SELECT T2.MailStreet FROM frpm AS T1 INNER JOI...     simple  \n",
       "4  SELECT T2.Phone FROM frpm AS T1 INNER JOIN sch...   moderate  "
      ]
     },
     "execution_count": 2,
     "metadata": {},
     "output_type": "execute_result"
    }
   ],
   "source": [
    "import pandas as pd\n",
    "\n",
    "data = pd.read_json('../data/dev/dev.json')\n",
    "\n",
    "data.head()"
   ]
  },
  {
   "cell_type": "code",
   "execution_count": null,
   "metadata": {},
   "outputs": [],
   "source": [
    "from agents.feedback_agent import FeedbackAgent\n",
    "\n",
    "\n",
    "agent = FeedbackAgent(Olla)"
   ]
  },
  {
   "cell_type": "code",
   "execution_count": null,
   "metadata": {},
   "outputs": [],
   "source": []
  }
 ],
 "metadata": {
  "kernelspec": {
   "display_name": "llmsagents-texttosql-L08Ttfzn-py3.13",
   "language": "python",
   "name": "python3"
  },
  "language_info": {
   "codemirror_mode": {
    "name": "ipython",
    "version": 3
   },
   "file_extension": ".py",
   "mimetype": "text/x-python",
   "name": "python",
   "nbconvert_exporter": "python",
   "pygments_lexer": "ipython3",
   "version": "3.13.0"
  }
 },
 "nbformat": 4,
 "nbformat_minor": 2
}
