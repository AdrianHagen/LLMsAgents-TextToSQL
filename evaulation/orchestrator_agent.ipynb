{
 "cells": [
  {
   "cell_type": "markdown",
   "metadata": {},
   "source": [
    "# Evaluation of Multi-Agent approach using an orchestrator"
   ]
  },
  {
   "cell_type": "code",
   "execution_count": 3,
   "metadata": {},
   "outputs": [],
   "source": [
    "import sys\n",
    "import os\n",
    "sys.path.append(\"/Users/i551965/Documents/dev/Uni/LLMsAgents/LLMsAgents-TextToSQL/src/\")\n",
    "sys.path.append(\"/Users/i551965/Documents/dev/Uni/LLMsAgents/LLMsAgents-TextToSQL/src/agents\")\n",
    "sys.path.append(\"/Users/i551965/Documents/dev/Uni/LLMsAgents/LLMsAgents-TextToSQL/src/prompt_templates\")\n",
    "from approach_evaluator import ApproachEvaluator\n",
    "from orchestrator_agent import create_sql_from_natural_text, visualize_graph\n",
    "visualize_graph()"
   ]
  },
  {
   "cell_type": "code",
   "execution_count": 4,
   "metadata": {},
   "outputs": [
    {
     "name": "stdout",
     "output_type": "stream",
     "text": [
      "Orchestrator Agent: Failed to decode JSON response: Expecting value: line 1 column 1 (char 0), \n",
      "            raw Response: , \n",
      "            processed Response: \n",
      "Fixer Agent: JSON Parser failed : Expecting ',' delimiter: line 2 column 66 (char 67)\n",
      "Orchestrator Agent: Failed to decode JSON response: Expecting value: line 1 column 1 (char 0), \n",
      "            raw Response: \n",
      "\n",
      "I'm sorry, I cannot generate output without proper input., \n",
      "            processed Response: \n",
      "Fixer Agent: JSON Parser failed : Expecting ',' delimiter: line 2 column 66 (char 67)\n",
      "Orchestrator Agent: Failed to decode JSON response: Expecting value: line 1 column 1 (char 0), \n",
      "            raw Response: , \n",
      "            processed Response: \n",
      "Fixer Agent: JSON Parser failed : Expecting ',' delimiter: line 2 column 66 (char 67)\n",
      "Stopping condition reached: Maximum iterations exceeded\n",
      "Error comparing query results: no such table: expense\n",
      "Target query: SELECT SUM(T3.cost) FROM event AS T1 INNER JOIN budget AS T2 ON T1.event_id = T2.link_to_event INNER JOIN expense AS T3 ON T2.budget_id = T3.link_to_budget WHERE T1.event_name = 'Yearly Kickoff'\n",
      "Predicted query: SELECT SUM(expense) FROM expense WHERE event = 'Yearly Kickoff';\n"
     ]
    },
    {
     "data": {
      "text/plain": [
       "0.0"
      ]
     },
     "execution_count": 4,
     "metadata": {},
     "output_type": "execute_result"
    }
   ],
   "source": [
    "import pandas as pd\n",
    "\n",
    "data_dir = os.getenv(\"DATA_DIRECTORY\")\n",
    "sql_input_file = pd.read_json(os.path.join(data_dir, \"dev.json\")).sample(1)\n",
    "\n",
    "evaluator = ApproachEvaluator(\n",
    "    approach=create_sql_from_natural_text,\n",
    "    input_texts=sql_input_file[\"question\"],\n",
    "    target_queries=sql_input_file[\"SQL\"]\n",
    ")\n",
    "evaluator.evaluate()"
   ]
  }
 ],
 "metadata": {
  "kernelspec": {
   "display_name": ".venv",
   "language": "python",
   "name": "python3"
  },
  "language_info": {
   "codemirror_mode": {
    "name": "ipython",
    "version": 3
   },
   "file_extension": ".py",
   "mimetype": "text/x-python",
   "name": "python",
   "nbconvert_exporter": "python",
   "pygments_lexer": "ipython3",
   "version": "3.13.0"
  }
 },
 "nbformat": 4,
 "nbformat_minor": 2
}
