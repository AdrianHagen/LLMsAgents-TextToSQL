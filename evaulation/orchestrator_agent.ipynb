{
 "cells": [
  {
   "cell_type": "markdown",
   "metadata": {},
   "source": [
    "# Evaluation of Multi-Agent approach using an orchestrator"
   ]
  },
  {
   "cell_type": "code",
   "execution_count": 1,
   "metadata": {},
   "outputs": [],
   "source": [
    "import sys\n",
    "import os\n",
    "sys.path.append(\"/Users/i551965/Documents/dev/Uni/LLMsAgents/LLMsAgents-TextToSQL/src/\")\n",
    "sys.path.append(\"/Users/i551965/Documents/dev/Uni/LLMsAgents/LLMsAgents-TextToSQL/src/agents\")\n",
    "sys.path.append(\"/Users/i551965/Documents/dev/Uni/LLMsAgents/LLMsAgents-TextToSQL/src/prompt_templates\")\n",
    "from approach_evaluator import ApproachEvaluator\n",
    "from orchestrator_agent import create_sql_from_natural_text"
   ]
  },
  {
   "cell_type": "code",
   "execution_count": 2,
   "metadata": {},
   "outputs": [
    {
     "name": "stdout",
     "output_type": "stream",
     "text": [
      "Orchestrator Agent: Failed to decode JSON response: Extra data: line 4 column 9 (char 77), \n",
      "            raw Response:         \n",
      "            Output:\n",
      "\n",
      "            {\n",
      "                \"tables\": [\"client\", \"disp\", \"card\"]\n",
      "            }\n",
      "        \"\"\"\n",
      "\n",
      "        tables = []\n",
      "\n",
      "        # Check if the query contains the keyword \"race\"\n",
      "        if \"race\" in original_question:\n",
      "            tables.append(\"drivers\")\n",
      "            tables.append(\"qualifying\")\n",
      "\n",
      "        # Check if the query contains the keyword \"average\"\n",
      "        if \"average\" in original_question:\n",
      "            tables.append(\"drivers\")\n",
      "            tables.append(\"results\")\n",
      "\n",
      "        # Check if the query contains the keyword \"client\"\n",
      "        if \"client\" in original_question:\n",
      "            tables.append(\"client\")\n",
      "            tables.append(\"disp\")\n",
      "            tables.append(\"card\")\n",
      "\n",
      "        return {\"tables\": tables}, \n",
      "            processed Response: {\n",
      "                \"tables\": [\"client\", \"disp\", \"card\"]\n",
      "            }\n",
      "        \"\"\"\n",
      "\n",
      "        tables = []\n",
      "\n",
      "        # Check if the query contains the keyword \"race\"\n",
      "        if \"race\" in original_question:\n",
      "            tables.append(\"drivers\")\n",
      "            tables.append(\"qualifying\")\n",
      "\n",
      "        # Check if the query contains the keyword \"average\"\n",
      "        if \"average\" in original_question:\n",
      "            tables.append(\"drivers\")\n",
      "            tables.append(\"results\")\n",
      "\n",
      "        # Check if the query contains the keyword \"client\"\n",
      "        if \"client\" in original_question:\n",
      "            tables.append(\"client\")\n",
      "            tables.append(\"disp\")\n",
      "            tables.append(\"card\")\n",
      "\n",
      "        return {\"tables\": tables}\n",
      "Creator agent: relevant tables: {}\n",
      "Creator agent: Processed response: SELECT id FROM clients WHERE `Card Type` = 'Junior' AND `Issuance Date` > '1996-01-01';\n",
      "Feedback agent: {'query_result': 'error', 'is_correct': False, 'feedback': 'Error executing query: no such table: clients', 'updated_query': None}\n",
      "Feedback agent: Query: SELECT id FROM clients WHERE `Card Type` = 'Junior' AND `Issuance Date` > '1996-01-01';\n",
      "Feedback agent: Orignal Question: List all the clients' IDs whose junior credit cards were issued after 1996.\n",
      "Creator agent: relevant tables: {\"client\": [\"client_id: the unique number\", \"gender: nan\", \"birth_date: birth date\", \"district_id: location of branch\"], \"card\": [\"card_id: id number of credit card\", \"disp_id: disposition id\", \"type: type of credit card\", \"issued: the date when the credit card issued \"]}\n",
      "Creator agent: Processed response: SELECT client.ID FROM client JOIN card ON client.ID = card.ID WHERE card.Issue_Year > 1996 AND card.Card_Type = 'Junior';\n",
      "Feedback agent: {'query_result': 'error', 'is_correct': False, 'feedback': 'Error executing query: no such column: client.ID', 'updated_query': None}\n",
      "Feedback agent: Query: SELECT client.ID FROM client JOIN card ON client.ID = card.ID WHERE card.Issue_Year > 1996 AND card.Card_Type = 'Junior';\n",
      "Feedback agent: Orignal Question: List all the clients' IDs whose junior credit cards were issued after 1996.\n",
      "Creator agent: relevant tables: {\"client\": [\"client_id: the unique number\", \"gender: nan\", \"birth_date: birth date\", \"district_id: location of branch\"], \"card\": [\"card_id: id number of credit card\", \"disp_id: disposition id\", \"type: type of credit card\", \"issued: the date when the credit card issued \"]}\n",
      "Creator agent: Processed response: SELECT DISTINCT client.ID FROM client INNER JOIN card ON client.ID = card.ID WHERE card.CardType = 'Junior' AND card.DateIssued > '1996-01-01';\n",
      "Feedback agent: {'query_result': 'error', 'is_correct': False, 'feedback': 'Error executing query: no such column: client.ID', 'updated_query': None}\n",
      "Feedback agent: Query: SELECT DISTINCT client.ID FROM client INNER JOIN card ON client.ID = card.ID WHERE card.CardType = 'Junior' AND card.DateIssued > '1996-01-01';\n",
      "Feedback agent: Orignal Question: List all the clients' IDs whose junior credit cards were issued after 1996.\n",
      "Creator agent: relevant tables: {\"client\": [\"client_id: the unique number\", \"gender: nan\", \"birth_date: birth date\", \"district_id: location of branch\"], \"card\": [\"card_id: id number of credit card\", \"disp_id: disposition id\", \"type: type of credit card\", \"issued: the date when the credit card issued \"]}\n",
      "Creator agent: Processed response: SELECT client.ID FROM client, card WHERE client.ID = card.clientID AND card.type = 'junior' AND card.issue_date > 1996 AND card.type = 'credit';\n",
      "Feedback agent: {'query_result': 'error', 'is_correct': False, 'feedback': 'Error executing query: no such column: client.ID', 'updated_query': None}\n",
      "Feedback agent: Query: SELECT client.ID FROM client, card WHERE client.ID = card.clientID AND card.type = 'junior' AND card.issue_date > 1996 AND card.type = 'credit';\n",
      "Feedback agent: Orignal Question: List all the clients' IDs whose junior credit cards were issued after 1996.\n",
      "Stopping condition reached: Maximum iterations exceeded\n",
      "Error comparing query results: no such column: client.ID\n",
      "Target query: SELECT T2.client_id FROM card AS T1 INNER JOIN disp AS T2 ON T1.disp_id = T2.disp_id WHERE T1.type = 'junior' AND T1.issued >= '1997-01-01'\n",
      "Predicted query: SELECT client.ID FROM client, card WHERE client.ID = card.clientID AND card.type = 'junior' AND card.issue_date > 1996 AND card.type = 'credit';\n"
     ]
    },
    {
     "data": {
      "text/plain": [
       "0.0"
      ]
     },
     "execution_count": 2,
     "metadata": {},
     "output_type": "execute_result"
    }
   ],
   "source": [
    "import pandas as pd\n",
    "\n",
    "data_dir = os.getenv(\"DATA_DIRECTORY\")\n",
    "sql_input_file = pd.read_json(os.path.join(data_dir, \"dev.json\")).sample(1)\n",
    "\n",
    "evaluator = ApproachEvaluator(\n",
    "    approach=create_sql_from_natural_text,\n",
    "    input_texts=sql_input_file[\"question\"],\n",
    "    target_queries=sql_input_file[\"SQL\"]\n",
    ")\n",
    "evaluator.evaluate()"
   ]
  }
 ],
 "metadata": {
  "kernelspec": {
   "display_name": ".venv",
   "language": "python",
   "name": "python3"
  },
  "language_info": {
   "codemirror_mode": {
    "name": "ipython",
    "version": 3
   },
   "file_extension": ".py",
   "mimetype": "text/x-python",
   "name": "python",
   "nbconvert_exporter": "python",
   "pygments_lexer": "ipython3",
   "version": "3.13.0"
  }
 },
 "nbformat": 4,
 "nbformat_minor": 2
}
