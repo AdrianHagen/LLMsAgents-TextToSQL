{
 "cells": [
  {
   "cell_type": "code",
   "execution_count": 1,
   "metadata": {},
   "outputs": [
    {
     "name": "stdout",
     "output_type": "stream",
     "text": [
      "['/home/yannik/coding-native/LLMsAgents-TextToSQL/src', '/home/linuxbrew/.linuxbrew/Cellar/python@3.13/3.13.0_1/lib/python313.zip', '/home/linuxbrew/.linuxbrew/Cellar/python@3.13/3.13.0_1/lib/python3.13', '/home/linuxbrew/.linuxbrew/Cellar/python@3.13/3.13.0_1/lib/python3.13/lib-dynload', '', '/home/yannik/.cache/pypoetry/virtualenvs/llmsagents-texttosql-L08Ttfzn-py3.13/lib/python3.13/site-packages']\n"
     ]
    },
    {
     "data": {
      "text/plain": [
       "True"
      ]
     },
     "execution_count": 1,
     "metadata": {},
     "output_type": "execute_result"
    }
   ],
   "source": [
    "import sys\n",
    "\n",
    "from dotenv import load_dotenv\n",
    "sys.path.insert(0, os.path.abspath('../src'))\n",
    "print(sys.path)\n",
    "\n",
    "load_dotenv()"
   ]
  },
  {
   "cell_type": "code",
   "execution_count": 2,
   "metadata": {},
   "outputs": [],
   "source": [
    "from langchain_ollama.chat_models import ChatOllama\n",
    "from agents.fixer_agent import FixerAgent\n",
    "\n",
    "model_name = \"mistral\"\n",
    "llm = ChatOllama(model=model_name)\n",
    "agent = FixerAgent(llm)"
   ]
  },
  {
   "cell_type": "code",
   "execution_count": 3,
   "metadata": {},
   "outputs": [
    {
     "name": "stdout",
     "output_type": "stream",
     "text": [
      "content=' {\\n       \"error_message\": \"Column \\'Ditrict\\' does not exist in table \\'schools\\'.\",\\n       \"specific_errors\": \"\\'Ditrict\\' is incorrect spelling or misspelling of the column name \\'District\\' in the \\'schools\\' table.\",\\n       \"advise\": \"In the SELECT statement, replace \\'Ditrict\\' with \\'District\\' to correct the specified syntax error.\"\\n   }' additional_kwargs={} response_metadata={'model': 'mistral', 'created_at': '2024-11-25T16:18:20.157955211Z', 'message': {'role': 'assistant', 'content': ''}, 'done_reason': 'stop', 'done': True, 'total_duration': 11128274753, 'load_duration': 2620577, 'prompt_eval_count': 1374, 'prompt_eval_duration': 1491000000, 'eval_count': 93, 'eval_duration': 9633000000} id='run-02f98c55-b3da-45e6-839d-0b3a8bc24bf0-0' usage_metadata={'input_tokens': 1374, 'output_tokens': 93, 'total_tokens': 1467}\n",
      "{'error_message': \"Column 'Ditrict' does not exist in table 'schools'.\", 'specific_errors': \"'Ditrict' is incorrect spelling or misspelling of the column name 'District' in the 'schools' table.\", 'advise': \"In the SELECT statement, replace 'Ditrict' with 'District' to correct the specified syntax error.\"}\n"
     ]
    }
   ],
   "source": [
    "response = agent.analyse_incorrect_query(\n",
    "    database=\"california_schools\",\n",
    "    error_message=\"Column Ditrict does not exist in table schools.\",\n",
    "    query=\"SELECT AdmLName1, Ditrict, County, School FROM schools WHERE CharterNum = '0040\",\n",
    ")\n",
    "\n",
    "print(response)"
   ]
  }
 ],
 "metadata": {
  "kernelspec": {
   "display_name": "llmsagents-texttosql-L08Ttfzn-py3.13",
   "language": "python",
   "name": "python3"
  },
  "language_info": {
   "codemirror_mode": {
    "name": "ipython",
    "version": 3
   },
   "file_extension": ".py",
   "mimetype": "text/x-python",
   "name": "python",
   "nbconvert_exporter": "python",
   "pygments_lexer": "ipython3",
   "version": "3.13.0"
  }
 },
 "nbformat": 4,
 "nbformat_minor": 2
}
