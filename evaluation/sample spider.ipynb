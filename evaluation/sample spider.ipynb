{
 "cells": [
  {
   "cell_type": "code",
   "execution_count": 6,
   "metadata": {},
   "outputs": [
    {
     "name": "stdout",
     "output_type": "stream",
     "text": [
      "['/Users/yannikhahn/Code/LLMsAgents-TextToSQL/src', '/Users/yannikhahn/Code/LLMsAgents-TextToSQL/src', '/Users/yannikhahn/Code/LLMsAgents-TextToSQL/evaluation/src', '/opt/homebrew/Cellar/python@3.12/3.12.6/Frameworks/Python.framework/Versions/3.12/lib/python312.zip', '/opt/homebrew/Cellar/python@3.12/3.12.6/Frameworks/Python.framework/Versions/3.12/lib/python3.12', '/opt/homebrew/Cellar/python@3.12/3.12.6/Frameworks/Python.framework/Versions/3.12/lib/python3.12/lib-dynload', '', '/Users/yannikhahn/Library/Caches/pypoetry/virtualenvs/llmsagents-texttosql-JgGAmzxu-py3.12/lib/python3.12/site-packages']\n"
     ]
    },
    {
     "data": {
      "text/plain": [
       "True"
      ]
     },
     "execution_count": 6,
     "metadata": {},
     "output_type": "execute_result"
    }
   ],
   "source": [
    "import sys\n",
    "\n",
    "from dotenv import load_dotenv\n",
    "\n",
    "sys.path.insert(0, os.path.abspath(\"../src\"))\n",
    "print(sys.path)\n",
    "\n",
    "load_dotenv()"
   ]
  },
  {
   "cell_type": "code",
   "execution_count": null,
   "metadata": {},
   "outputs": [],
   "source": [
    "import pandas as pd\n",
    "\n",
    "df = pd.read_json(\"../data/spider/test.json\")\n",
    "\n",
    "df.head()\n",
    "df.rename(columns={\"query\": \"SQL\"}, inplace=True)\n",
    "df[\"question_id\"] = df.index"
   ]
  },
  {
   "cell_type": "code",
   "execution_count": 8,
   "metadata": {},
   "outputs": [],
   "source": [
    "sample = df.sample(100 , random_state=0)\n"
   ]
  },
  {
   "cell_type": "code",
   "execution_count": 9,
   "metadata": {},
   "outputs": [
    {
     "data": {
      "text/html": [
       "<div>\n",
       "<style scoped>\n",
       "    .dataframe tbody tr th:only-of-type {\n",
       "        vertical-align: middle;\n",
       "    }\n",
       "\n",
       "    .dataframe tbody tr th {\n",
       "        vertical-align: top;\n",
       "    }\n",
       "\n",
       "    .dataframe thead th {\n",
       "        text-align: right;\n",
       "    }\n",
       "</style>\n",
       "<table border=\"1\" class=\"dataframe\">\n",
       "  <thead>\n",
       "    <tr style=\"text-align: right;\">\n",
       "      <th></th>\n",
       "      <th>db_id</th>\n",
       "      <th>SQL</th>\n",
       "      <th>query_toks</th>\n",
       "      <th>query_toks_no_value</th>\n",
       "      <th>question</th>\n",
       "      <th>question_toks</th>\n",
       "      <th>sql</th>\n",
       "      <th>query_id</th>\n",
       "      <th>execution_time</th>\n",
       "    </tr>\n",
       "  </thead>\n",
       "  <tbody>\n",
       "    <tr>\n",
       "      <th>1859</th>\n",
       "      <td>planet_1</td>\n",
       "      <td>SELECT POSITION FROM Employee WHERE Name  =  \"...</td>\n",
       "      <td>[SELECT, POSITION, FROM, Employee, WHERE, Name...</td>\n",
       "      <td>[select, position, from, employee, where, name...</td>\n",
       "      <td>What is the position of Amy Wong?</td>\n",
       "      <td>[What, is, the, position, of, Amy, Wong, ?]</td>\n",
       "      <td>{'from': {'table_units': [['table_unit', 0]], ...</td>\n",
       "      <td>1859</td>\n",
       "      <td>0.000006</td>\n",
       "    </tr>\n",
       "    <tr>\n",
       "      <th>1659</th>\n",
       "      <td>institution_sports</td>\n",
       "      <td>SELECT T1.Nickname FROM championship AS T1 JOI...</td>\n",
       "      <td>[SELECT, T1.Nickname, FROM, championship, AS, ...</td>\n",
       "      <td>[select, t1, ., nickname, from, championship, ...</td>\n",
       "      <td>What is the nickname of the institution with t...</td>\n",
       "      <td>[What, is, the, nickname, of, the, institution...</td>\n",
       "      <td>{'from': {'table_units': [['table_unit', 1], [...</td>\n",
       "      <td>1659</td>\n",
       "      <td>0.000008</td>\n",
       "    </tr>\n",
       "    <tr>\n",
       "      <th>477</th>\n",
       "      <td>cre_Students_Information_Systems</td>\n",
       "      <td>SELECT datetime_detention_start ,  datetime_de...</td>\n",
       "      <td>[SELECT, datetime_detention_start, ,, datetime...</td>\n",
       "      <td>[select, datetime_detention_start, ,, datetime...</td>\n",
       "      <td>Show the detention start time and end time of ...</td>\n",
       "      <td>[Show, the, detention, start, time, and, end, ...</td>\n",
       "      <td>{'from': {'table_units': [['table_unit', 13]],...</td>\n",
       "      <td>477</td>\n",
       "      <td>0.000015</td>\n",
       "    </tr>\n",
       "    <tr>\n",
       "      <th>259</th>\n",
       "      <td>customers_and_orders</td>\n",
       "      <td>SELECT product_name FROM Products WHERE produc...</td>\n",
       "      <td>[SELECT, product_name, FROM, Products, WHERE, ...</td>\n",
       "      <td>[select, product_name, from, products, where, ...</td>\n",
       "      <td>Show all hardware type products in ascending o...</td>\n",
       "      <td>[Show, all, hardware, type, products, in, asce...</td>\n",
       "      <td>{'from': {'table_units': [['table_unit', 0]], ...</td>\n",
       "      <td>259</td>\n",
       "      <td>0.000009</td>\n",
       "    </tr>\n",
       "    <tr>\n",
       "      <th>1708</th>\n",
       "      <td>warehouse_1</td>\n",
       "      <td>SELECT sum(T1.value) FROM boxes AS T1 JOIN war...</td>\n",
       "      <td>[SELECT, sum, (, T1.value, ), FROM, boxes, AS,...</td>\n",
       "      <td>[select, sum, (, t1, ., value, ), from, boxes,...</td>\n",
       "      <td>What is the total value of boxes located in Ch...</td>\n",
       "      <td>[What, is, the, total, value, of, boxes, locat...</td>\n",
       "      <td>{'from': {'table_units': [['table_unit', 1], [...</td>\n",
       "      <td>1708</td>\n",
       "      <td>0.000006</td>\n",
       "    </tr>\n",
       "  </tbody>\n",
       "</table>\n",
       "</div>"
      ],
      "text/plain": [
       "                                 db_id  \\\n",
       "1859                          planet_1   \n",
       "1659                institution_sports   \n",
       "477   cre_Students_Information_Systems   \n",
       "259               customers_and_orders   \n",
       "1708                       warehouse_1   \n",
       "\n",
       "                                                    SQL  \\\n",
       "1859  SELECT POSITION FROM Employee WHERE Name  =  \"...   \n",
       "1659  SELECT T1.Nickname FROM championship AS T1 JOI...   \n",
       "477   SELECT datetime_detention_start ,  datetime_de...   \n",
       "259   SELECT product_name FROM Products WHERE produc...   \n",
       "1708  SELECT sum(T1.value) FROM boxes AS T1 JOIN war...   \n",
       "\n",
       "                                             query_toks  \\\n",
       "1859  [SELECT, POSITION, FROM, Employee, WHERE, Name...   \n",
       "1659  [SELECT, T1.Nickname, FROM, championship, AS, ...   \n",
       "477   [SELECT, datetime_detention_start, ,, datetime...   \n",
       "259   [SELECT, product_name, FROM, Products, WHERE, ...   \n",
       "1708  [SELECT, sum, (, T1.value, ), FROM, boxes, AS,...   \n",
       "\n",
       "                                    query_toks_no_value  \\\n",
       "1859  [select, position, from, employee, where, name...   \n",
       "1659  [select, t1, ., nickname, from, championship, ...   \n",
       "477   [select, datetime_detention_start, ,, datetime...   \n",
       "259   [select, product_name, from, products, where, ...   \n",
       "1708  [select, sum, (, t1, ., value, ), from, boxes,...   \n",
       "\n",
       "                                               question  \\\n",
       "1859                  What is the position of Amy Wong?   \n",
       "1659  What is the nickname of the institution with t...   \n",
       "477   Show the detention start time and end time of ...   \n",
       "259   Show all hardware type products in ascending o...   \n",
       "1708  What is the total value of boxes located in Ch...   \n",
       "\n",
       "                                          question_toks  \\\n",
       "1859        [What, is, the, position, of, Amy, Wong, ?]   \n",
       "1659  [What, is, the, nickname, of, the, institution...   \n",
       "477   [Show, the, detention, start, time, and, end, ...   \n",
       "259   [Show, all, hardware, type, products, in, asce...   \n",
       "1708  [What, is, the, total, value, of, boxes, locat...   \n",
       "\n",
       "                                                    sql  query_id  \\\n",
       "1859  {'from': {'table_units': [['table_unit', 0]], ...      1859   \n",
       "1659  {'from': {'table_units': [['table_unit', 1], [...      1659   \n",
       "477   {'from': {'table_units': [['table_unit', 13]],...       477   \n",
       "259   {'from': {'table_units': [['table_unit', 0]], ...       259   \n",
       "1708  {'from': {'table_units': [['table_unit', 1], [...      1708   \n",
       "\n",
       "      execution_time  \n",
       "1859        0.000006  \n",
       "1659        0.000008  \n",
       "477         0.000015  \n",
       "259         0.000009  \n",
       "1708        0.000006  "
      ]
     },
     "execution_count": 9,
     "metadata": {},
     "output_type": "execute_result"
    }
   ],
   "source": [
    "from approach_evaluator import avg_execution_time\n",
    "\n",
    "sample[\"execution_time\"] = avg_execution_time(sample[\"db_id\"], sample[\"SQL\"])\n",
    "\n",
    "sample.head()"
   ]
  },
  {
   "cell_type": "code",
   "execution_count": 10,
   "metadata": {},
   "outputs": [],
   "source": [
    "os.makedirs(\"../sample\", exist_ok=True)\n",
    "\n",
    "sample.to_csv(\"../sample/spider.csv\", index=False)"
   ]
  }
 ],
 "metadata": {
  "kernelspec": {
   "display_name": "llmsagents-texttosql-JgGAmzxu-py3.12",
   "language": "python",
   "name": "python3"
  },
  "language_info": {
   "codemirror_mode": {
    "name": "ipython",
    "version": 3
   },
   "file_extension": ".py",
   "mimetype": "text/x-python",
   "name": "python",
   "nbconvert_exporter": "python",
   "pygments_lexer": "ipython3",
   "version": "3.12.6"
  }
 },
 "nbformat": 4,
 "nbformat_minor": 2
}
