{
 "cells": [
  {
   "cell_type": "markdown",
   "metadata": {},
   "source": [
    "# Evaluation of Multi-Agent approach using an orchestrator"
   ]
  },
  {
   "cell_type": "code",
   "execution_count": 1,
   "metadata": {},
   "outputs": [],
   "source": [
    "import sys\n",
    "import os\n",
    "sys.path.append(\"/Users/i551965/Documents/dev/Uni/LLMsAgents/LLMsAgents-TextToSQL/src/\")\n",
    "sys.path.append(\"/Users/i551965/Documents/dev/Uni/LLMsAgents/LLMsAgents-TextToSQL/src/agents\")\n",
    "sys.path.append(\"/Users/i551965/Documents/dev/Uni/LLMsAgents/LLMsAgents-TextToSQL/src/prompt_templates\")\n",
    "from approach_evaluator import ApproachEvaluator\n",
    "from orchestrator_agent import create_sql_from_natural_text, visualize_graph\n",
    "visualize_graph()"
   ]
  },
  {
   "cell_type": "code",
   "execution_count": 2,
   "metadata": {},
   "outputs": [
    {
     "name": "stdout",
     "output_type": "stream",
     "text": [
      "{'query_result': '[(0,)]', 'is_correct': False, 'feedback': \"The query did not return any results, indicating there might be an issue with the filtering conditions or field names. The 'OpenDate' field is not recognized, and the 'StatusType' field should be checked for accuracy.\", 'updated_query': \"SELECT COUNT(*) FROM california_schools WHERE OpenDate BETWEEN '2000-01-01' AND '2005-12-31' AND County = 'Stanislaus' AND StatusType = 'Directly Funded School';\"}\n",
      "{'query_result': '[(0,)]', 'is_correct': False, 'feedback': \"The query did not return any results, indicating there might be an issue with the filtering conditions or field names. The 'OpenDate' field is not recognized, and the 'StatusType' field should be checked for accuracy.\", 'updated_query': \"SELECT COUNT(*) FROM california_schools WHERE OpenDate BETWEEN '2000-01-01' AND '2005-12-31' AND County = 'Stanislaus' AND StatusType = 'Directly Funded School';\"}\n",
      "Orchestrator Agent: An error occurred: 'feedback'\n",
      "Error with final query: Database with name  not found.\n",
      "Target query: SELECT COUNT(School) FROM schools WHERE strftime('%Y', OpenDate) BETWEEN '2000' AND '2005' AND County = 'Stanislaus' AND FundingType = 'Directly funded'\n",
      "Predicted query: \n",
      "{'query_result': '[]', 'is_correct': False, 'feedback': \"The query did not return any results because the condition 'block = 'Masques' AND block = 'Mirage'' is contradictory. It's not possible for a single row to have both 'block' values. You should use 'OR' instead of 'AND' to retrieve sets from either 'Masques' or 'Mirage'.\", 'updated_query': \"SELECT baseSetSize AS 'Set size', code AS 'Set code' FROM sets WHERE block IN ('Masques', 'Mirage');\"}\n",
      "{'query_result': '[]', 'is_correct': False, 'feedback': \"The query did not return any results because the condition 'block = 'Masques' AND block = 'Mirage'' is contradictory. It's not possible for a single row to have both 'block' values. You should use 'OR' instead of 'AND' to retrieve sets from either 'Masques' or 'Mirage'.\", 'updated_query': \"SELECT baseSetSize AS 'Set size', code AS 'Set code' FROM sets WHERE block IN ('Masques', 'Mirage');\"}\n",
      "{'query_result': '[]', 'is_correct': False, 'feedback': \"The query did not return any results because the condition 'block = 'Masques' AND block = 'Mirage'' is contradictory. It's not possible for a single row to have both 'block' values. You should use 'OR' instead of 'AND' to retrieve sets from either 'Masques' or 'Mirage'.\", 'updated_query': \"SELECT baseSetSize AS 'Set size', code AS 'Set code' FROM sets WHERE block IN ('Masques', 'Mirage');\"}\n",
      "Stopping condition reached: Maximum iterations exceeded\n",
      "Predicted result: [(350, 'MIR'), (350, 'MMQ'), (143, 'NEM'), (144, 'PCY'), (1, 'PMMQ'), (1, 'PNEM'), (1, 'PPCY'), (167, 'VIS'), (167, 'WTH')], Target result: [(350, 'MMQ'), (144, 'PCY'), (167, 'WTH')]\n",
      "{'query_result': '[]', 'is_correct': False, 'feedback': \"The query did not return any results, but there should be a keyrune code for the set with code 'PKHC'. The issue might be with the syntax of the column names and the table name. Enclose column names with spaces in double quotes. Also, check for case sensitivity.\", 'updated_query': 'SELECT \"Keyrune Code\" FROM postLinks WHERE \"Code\" = \\'PKHC\\';'}\n",
      "{'query_result': '[]', 'is_correct': False, 'feedback': \"The query did not return any results, but there should be a keyrune code for the set with code 'PKHC'. The issue might be with the syntax of the column names and the table name. Enclose column names with spaces in double quotes. Also, check for case sensitivity.\", 'updated_query': 'SELECT \"Keyrune Code\" FROM postLinks WHERE \"Code\" = \\'PKHC\\';'}\n",
      "{'query_result': '[]', 'is_correct': False, 'feedback': \"The query did not return any results, but there should be a keyrune code for the set with code 'PKHC'. The issue might be with the syntax of the column names and the table name. Enclose column names with spaces in double quotes. Also, check for case sensitivity.\", 'updated_query': 'SELECT \"Keyrune Code\" FROM postLinks WHERE \"Code\" = \\'PKHC\\';'}\n",
      "Stopping condition reached: Maximum iterations exceeded\n",
      "Error with final query: no such table: sets\n",
      "Target query: SELECT keyruneCode FROM sets WHERE code = 'PKHC'\n",
      "Predicted query: SELECT \"Column name: LinkTypeId\" FROM postLinks WHERE \"Column name: PostId\" = 'PKHC';\n"
     ]
    },
    {
     "data": {
      "text/plain": [
       "{'question_id': [489, 66, 442],\n",
       " 'predicted_query': ['',\n",
       "  'SELECT \"baseSetSize\", \"code\" FROM \"sets\" WHERE \"block\" = \\'Masques\\' OR \"block\" = \\'Mirage\\';',\n",
       "  'SELECT \"Column name: LinkTypeId\" FROM postLinks WHERE \"Column name: PostId\" = \\'PKHC\\';'],\n",
       " 'predicted_database': ['', 'card_games', 'codebase_community'],\n",
       " 'feedbacks': [[],\n",
       "  [{'query_result': '[]',\n",
       "    'is_correct': False,\n",
       "    'feedback': \"The query did not return any results because the condition 'block = 'Masques' AND block = 'Mirage'' is contradictory. It's not possible for a single row to have both 'block' values. You should use 'OR' instead of 'AND' to retrieve sets from either 'Masques' or 'Mirage'.\",\n",
       "    'updated_query': \"SELECT baseSetSize AS 'Set size', code AS 'Set code' FROM sets WHERE block IN ('Masques', 'Mirage');\"},\n",
       "   {'query_result': \"[(350, 'MIR'), (350, 'MMQ'), (143, 'NEM'), (144, 'PCY'), (1, 'PMMQ'), (1, 'PNEM'), (1, 'PPCY'), (167, 'VIS'), (167, 'WTH')]\",\n",
       "    'is_correct': False,\n",
       "    'feedback': \"The query result includes the base set size and set code, but it is not filtered based on the block names 'Masques' and 'Mirage'. The WHERE clause should be modified to filter the results based on the block names specified in the original question.\",\n",
       "    'updated_query': \"SELECT baseSetSize, code FROM sets WHERE block IN ('Masques', 'Mirage');\"},\n",
       "   {'query_result': \"[(350, 'MIR'), (350, 'MMQ'), (143, 'NEM'), (144, 'PCY'), (1, 'PMMQ'), (1, 'PNEM'), (1, 'PPCY'), (167, 'VIS'), (167, 'WTH')]\",\n",
       "    'is_correct': False,\n",
       "    'feedback': \"The query did not correctly filter the sets based on both 'Masques' and 'Mirage'. The OR operator is not suitable for this condition as it retrieves sets from either 'Masques' or 'Mirage'. Use the AND operator to filter sets that belong to both 'Masques' and 'Mirage'.\",\n",
       "    'updated_query': \"SELECT baseSetSize, code FROM sets WHERE block = 'Masques' AND code IN (SELECT code FROM sets WHERE block = 'Mirage');\"},\n",
       "   {'query_result': \"[(350, 'MIR'), (350, 'MMQ'), (143, 'NEM'), (144, 'PCY'), (1, 'PMMQ'), (1, 'PNEM'), (1, 'PPCY'), (167, 'VIS'), (167, 'WTH')]\",\n",
       "    'is_correct': False,\n",
       "    'feedback': \"The query did not correctly filter the sets based on both 'Masques' and 'Mirage'. The OR condition is causing the query to retrieve sets from either 'Masques' or 'Mirage'. It should use an AND condition to retrieve sets that belong to both 'Masques' and 'Mirage'.\",\n",
       "    'updated_query': \"SELECT baseSetSize, code FROM sets WHERE block = 'Masques' AND code IN (SELECT code FROM sets WHERE block = 'Mirage');\"}],\n",
       "  [{'query_result': '[]',\n",
       "    'is_correct': False,\n",
       "    'feedback': \"The query did not return any results, but there should be a keyrune code for the set with code 'PKHC'. The issue might be with the syntax of the column names and the table name. Enclose column names with spaces in double quotes. Also, check for case sensitivity.\",\n",
       "    'updated_query': 'SELECT \"Keyrune Code\" FROM postLinks WHERE \"Code\" = \\'PKHC\\';'},\n",
       "   {'query_result': '[]',\n",
       "    'is_correct': False,\n",
       "    'feedback': \"The query did not return any results, but there should be a keyrune code for the set with code 'PKHC'. The issue is with the column names having double quotes which is not standard SQL syntax.\",\n",
       "    'updated_query': \"SELECT KeyruneCode FROM postLinks WHERE Code = 'PKHC';\"},\n",
       "   {'query_result': '[]',\n",
       "    'is_correct': False,\n",
       "    'feedback': 'The query did not return any results, which indicates there might be an issue with the column names or syntax used in the query. Check the column names and ensure proper quoting.',\n",
       "    'updated_query': \"SELECT Keyrune_Code FROM postLinks WHERE Code = 'PKHC';\"},\n",
       "   {'query_result': '[]',\n",
       "    'is_correct': False,\n",
       "    'feedback': 'The query did not return any results, and the syntax of the query seems to be incorrect. The column names should not be enclosed in double quotes. Also, the table name and column names are not related to the original question. Check and correct the table and column names.',\n",
       "    'updated_query': \"SELECT keyrune_code FROM set_table WHERE set_code = 'PKHC';\"}]],\n",
       " 'errors': [[], [], []],\n",
       " 'is_correct': [[0], [0], [0]]}"
      ]
     },
     "execution_count": 2,
     "metadata": {},
     "output_type": "execute_result"
    }
   ],
   "source": [
    "import pandas as pd\n",
    "\n",
    "data_dir = os.getenv(\"DATA_DIRECTORY\")\n",
    "sql_input_file = pd.read_csv(\"../sample/dev.csv\").sample(3)\n",
    "\n",
    "# Config is just for logging purposes and does not affect the run\n",
    "run_config = {\n",
    "    \"k_shot_prompting_creator_agent\": 2,\n",
    "    \"k_shot_prompting_fixer_agent\": 1,\n",
    "    \"k_shot_prompting_feedback_agent\": 2,\n",
    "    \"k_shot_prompting_select_relevant_database\": 0,\n",
    "    \"k_shot_prompting_select_relevant_tables\": 2\n",
    "}\n",
    "\n",
    "evaluator = ApproachEvaluator(\n",
    "    run_config=run_config,\n",
    "    question_ids=sql_input_file[\"question_id\"],\n",
    "    approach=create_sql_from_natural_text\n",
    ")\n",
    "evaluator.evaluate()"
   ]
  }
 ],
 "metadata": {
  "kernelspec": {
   "display_name": ".venv",
   "language": "python",
   "name": "python3"
  },
  "language_info": {
   "codemirror_mode": {
    "name": "ipython",
    "version": 3
   },
   "file_extension": ".py",
   "mimetype": "text/x-python",
   "name": "python",
   "nbconvert_exporter": "python",
   "pygments_lexer": "ipython3",
   "version": "3.13.0"
  }
 },
 "nbformat": 4,
 "nbformat_minor": 2
}
