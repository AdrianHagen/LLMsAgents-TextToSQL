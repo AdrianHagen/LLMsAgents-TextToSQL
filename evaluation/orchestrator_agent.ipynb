{
 "cells": [
  {
   "cell_type": "markdown",
   "metadata": {},
   "source": [
    "# Evaluation of Multi-Agent approach using an orchestrator"
   ]
  },
  {
   "cell_type": "code",
   "execution_count": 1,
   "metadata": {},
   "outputs": [],
   "source": [
    "import sys\n",
    "import os\n",
    "sys.path.append(\"/Users/i551965/Documents/dev/Uni/LLMsAgents/LLMsAgents-TextToSQL/src/\")\n",
    "sys.path.append(\"/Users/i551965/Documents/dev/Uni/LLMsAgents/LLMsAgents-TextToSQL/src/agents\")\n",
    "sys.path.append(\"/Users/i551965/Documents/dev/Uni/LLMsAgents/LLMsAgents-TextToSQL/src/prompt_templates\")\n",
    "from approach_evaluator import ApproachEvaluator\n",
    "from orchestrator_agent import create_sql_from_natural_text, visualize_graph\n",
    "visualize_graph()"
   ]
  },
  {
   "cell_type": "code",
   "execution_count": 2,
   "metadata": {},
   "outputs": [
    {
     "name": "stdout",
     "output_type": "stream",
     "text": [
      "Input text: Of the first 100 molecules in number order, how many are carcinogenic?\n",
      "\n",
      "Predicted result: [(0,)], Target result: [(29,)]\n",
      "Input text: Which post by Harvey Motulsky has the most views? Please give the id and title of this post.\n",
      "\n",
      "Predicted result: [(109, \"Power of Holm's multiple comparison testing compared to others\")], Target result: [(109, \"Power of Holm's multiple comparison testing compared to others\")]\n",
      "Input text: Give the race of the blue-haired male superhero.\n",
      "\n",
      "Orchestrator Agent: validate: superhero\n",
      "Orhcestrator Agent: validate: SELECT race.race FROM superhero \n",
      "        JOIN colour ON superhero.hair_colour_id = colour.id\n",
      "        JOIN race ON superhero.race_id = race.id\n",
      "        WHERE superhero.gender_id = gender.id AND superhero.eye_colour_id = colour.id AND superhero.hair_colour_id = colour.id AND superhero.skin_colour_id = colour.id AND superhero.publisher_id = publisher.id AND superhero.alignment_id = alignment.id AND superhero.height_cm = height_cm.id AND superhero.weight_kg = weight_kg.id AND superhero.superhero_name = superhero_name.id AND superhero.full_name = full_name.id AND superhero.id = id.id AND superhero.gender_id = gender.id AND colour.colour = 'blue';\n",
      "Orchestrator Agent: validate: Error executing query: no such column: gender.id\n",
      "JSON Parser failed : Invalid control character at: line 5 column 54 (char 479)\n",
      "Orchestrator Agent: An error occurred: 'is_correct'\n",
      "Error comparing query results: Database with name  not found.\n",
      "Target query: SELECT T3.race FROM superhero AS T1 INNER JOIN colour AS T2 ON T1.hair_colour_id = T2.id INNER JOIN race AS T3 ON T1.race_id = T3.id INNER JOIN gender AS T4 ON T1.gender_id = T4.id WHERE T2.colour = 'Blue' AND T4.gender = 'Male'\n",
      "Predicted query: \n",
      "Input text: Name the top 3 drivers and the points they scored in the 2017 Chinese Grand Prix.\n",
      "\n",
      "Predicted result: [('Sebastian Vettel', 43.0), ('Lewis Hamilton', 43.0), ('Max Verstappen', 25.0)], Target result: [('Sebastian', 'Vettel', 43.0), ('Lewis', 'Hamilton', 43.0), ('Max', 'Verstappen', 25.0)]\n",
      "Input text: Who was the champion of 2008's Australian Grand Prix and where can I know more about him?\n",
      "\n",
      "Predicted result: [('Lewis', 'Hamilton', 'http://en.wikipedia.org/wiki/Lewis_Hamilton')], Target result: [('Lewis', 'Hamilton', 'http://en.wikipedia.org/wiki/Lewis_Hamilton')]\n"
     ]
    },
    {
     "data": {
      "text/plain": [
       "{'question_id': [678, 817, 938, 893, 204],\n",
       " 'predicted_query': [\"SELECT COUNT(label) FROM molecule WHERE molecule_id <= 100 AND label = 'carcinogenic';\",\n",
       "  \"SELECT posts.Id, posts.Title FROM posts INNER JOIN users ON posts.OwnerUserId = users.Id WHERE users.DisplayName = 'Harvey Motulsky' ORDER BY posts.ViewCount DESC LIMIT 1;\",\n",
       "  '',\n",
       "  'SELECT drivers.forename || \\' \\' || drivers.surname AS \"Name\", driverStandings.points AS \"Points\" FROM driverStandings INNER JOIN drivers ON driverStandings.driverId = drivers.driverId WHERE driverStandings.raceId = (SELECT raceId FROM races WHERE year = 2017 AND name = \\'Chinese Grand Prix\\') ORDER BY driverStandings.points DESC LIMIT 3;',\n",
       "  \"SELECT drivers.forename, drivers.surname, drivers.url FROM drivers\\n        JOIN results ON drivers.driverId = results.driverId\\n        JOIN races ON results.raceId = races.raceId\\n        WHERE races.year = 2008 AND races.name = 'Australian Grand Prix' AND results.position = 1;\"],\n",
       " 'predicted_database': ['toxicology',\n",
       "  'codebase_community',\n",
       "  '',\n",
       "  'formula_1',\n",
       "  'formula_1'],\n",
       " 'feedbacks': [[{'query_result': '[(0,)]',\n",
       "    'is_correct': True,\n",
       "    'feedback': 'No changes needed. The query is accurate.',\n",
       "    'updated_query': None}],\n",
       "  [{'query_result': '[]',\n",
       "    'is_correct': False,\n",
       "    'feedback': \"The query did not return any results. There might be issues with the filtering or JOIN conditions. It's important to ensure that the JOIN condition is correctly linking the posts and users tables based on the OwnerUserId and Id fields.\",\n",
       "    'updated_query': \"SELECT posts.Id, posts.Title FROM posts INNER JOIN users ON posts.OwnerUserId = users.Id WHERE users.DisplayName = 'Harvey Motulsky' ORDER BY posts.ViewCount DESC LIMIT 1;\"},\n",
       "   {'query_result': '[(109, \"Power of Holm\\'s multiple comparison testing compared to others\")]',\n",
       "    'is_correct': True,\n",
       "    'feedback': 'No changes needed. The query is accurate and returns the post with the most views by Harvey Motulsky.',\n",
       "    'updated_query': None}],\n",
       "  [],\n",
       "  [{'query_result': \"[(68176, 970, 20, 43.0, 1, '1', 1), (68177, 970, 1, 43.0, 2, '2', 1), (68178, 970, 822, 23.0, 4, '4', 0)]\",\n",
       "    'is_correct': False,\n",
       "    'feedback': 'The query result includes the driver standings data, but it does not specifically mention the names of the drivers. To answer the question accurately, the query should include the names of the drivers along with the points they scored.',\n",
       "    'updated_query': \"SELECT drivers.driverRef, driverStandings.points FROM driverStandings INNER JOIN drivers ON driverStandings.driverId = drivers.driverId WHERE driverStandings.raceId = (SELECT raceId FROM races WHERE year = 2017 AND name = 'Chinese Grand Prix') ORDER BY driverStandings.points DESC LIMIT 3;\"},\n",
       "   {'query_result': \"[('Sebastian Vettel', 43.0), ('Lewis Hamilton', 43.0), ('Max Verstappen', 25.0)]\",\n",
       "    'is_correct': True,\n",
       "    'feedback': 'No changes needed. The query accurately lists the top 3 drivers and the points they scored in the 2017 Chinese Grand Prix.',\n",
       "    'updated_query': None}],\n",
       "  [{'query_result': \"[('Lewis', 'Hamilton', 'http://en.wikipedia.org/wiki/Lewis_Hamilton')]\",\n",
       "    'is_correct': True,\n",
       "    'feedback': 'No changes needed. The query accurately retrieves the champion of the 2008 Australian Grand Prix and provides a link for more information.',\n",
       "    'updated_query': None}]],\n",
       " 'errors': [[], [], [], [], []],\n",
       " 'is_correct': [[0], [1], [0], [0], [1]]}"
      ]
     },
     "execution_count": 2,
     "metadata": {},
     "output_type": "execute_result"
    }
   ],
   "source": [
    "import pandas as pd\n",
    "\n",
    "data_dir = os.getenv(\"DATA_DIRECTORY\")\n",
    "sql_input_file = pd.read_csv(\"../sample/dev.csv\").sample(5)\n",
    "\n",
    "# Config is just for logging purposes and does not affect the run\n",
    "run_config = {\n",
    "    \"k_shot_prompting_creator_agent\": 2,\n",
    "    \"k_shot_prompting_fixer_agent\": 1,\n",
    "    \"k_shot_prompting_feedback_agent\": 2,\n",
    "    \"k_shot_prompting_select_relevant_database\": 0,\n",
    "    \"k_shot_prompting_select_relevant_tables\": 2\n",
    "}\n",
    "\n",
    "evaluator = ApproachEvaluator(\n",
    "    run_config=run_config,\n",
    "    question_ids=sql_input_file[\"question_id\"],\n",
    "    approach=create_sql_from_natural_text\n",
    ")\n",
    "evaluator.evaluate()"
   ]
  }
 ],
 "metadata": {
  "kernelspec": {
   "display_name": ".venv",
   "language": "python",
   "name": "python3"
  },
  "language_info": {
   "codemirror_mode": {
    "name": "ipython",
    "version": 3
   },
   "file_extension": ".py",
   "mimetype": "text/x-python",
   "name": "python",
   "nbconvert_exporter": "python",
   "pygments_lexer": "ipython3",
   "version": "3.13.0"
  }
 },
 "nbformat": 4,
 "nbformat_minor": 2
}
