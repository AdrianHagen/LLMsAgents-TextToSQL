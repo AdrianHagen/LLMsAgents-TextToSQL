{
 "cells": [
  {
   "cell_type": "markdown",
   "metadata": {},
   "source": [
    "# Evaluation of Multi-Agent approach using an orchestrator"
   ]
  },
  {
   "cell_type": "code",
   "execution_count": 5,
   "metadata": {},
   "outputs": [
    {
     "name": "stdout",
     "output_type": "stream",
     "text": [
      "['/Users/i551965/Documents/dev/Uni/LLMsAgents/LLMsAgents-TextToSQL/src', '/Users/i551965/Documents/dev/Uni/LLMsAgents/LLMsAgents-TextToSQL/src', '/opt/homebrew/Cellar/python@3.13/3.13.0_1/Frameworks/Python.framework/Versions/3.13/lib/python313.zip', '/opt/homebrew/Cellar/python@3.13/3.13.0_1/Frameworks/Python.framework/Versions/3.13/lib/python3.13', '/opt/homebrew/Cellar/python@3.13/3.13.0_1/Frameworks/Python.framework/Versions/3.13/lib/python3.13/lib-dynload', '', '/Users/i551965/Documents/dev/Uni/LLMsAgents/LLMsAgents-TextToSQL/.venv/lib/python3.13/site-packages', '/Users/i551965/Documents/dev/Uni/LLMsAgents/LLMsAgents-TextToSQL/src/', '/Users/i551965/Documents/dev/Uni/LLMsAgents/LLMsAgents-TextToSQL/src/agents', '/Users/i551965/Documents/dev/Uni/LLMsAgents/LLMsAgents-TextToSQL/src/prompt_templates', '/Users/i551965/Documents/dev/Uni/LLMsAgents/LLMsAgents-TextToSQL/src/', '/Users/i551965/Documents/dev/Uni/LLMsAgents/LLMsAgents-TextToSQL/src/agents', '/Users/i551965/Documents/dev/Uni/LLMsAgents/LLMsAgents-TextToSQL/src/prompt_templates']\n"
     ]
    }
   ],
   "source": [
    "import sys\n",
    "import os\n",
    "sys.path.append(\"/Users/i551965/Documents/dev/Uni/LLMsAgents/LLMsAgents-TextToSQL/src/\")\n",
    "sys.path.append(\"/Users/i551965/Documents/dev/Uni/LLMsAgents/LLMsAgents-TextToSQL/src/agents\")\n",
    "sys.path.append(\"/Users/i551965/Documents/dev/Uni/LLMsAgents/LLMsAgents-TextToSQL/src/prompt_templates\")\n",
    "from dotenv import load_dotenv\n",
    "\n",
    "sys.path.insert(0, os.path.abspath(\"../src\"))\n",
    "print(sys.path)\n",
    "\n",
    "load_dotenv()\n",
    "from approach_evaluator import ApproachEvaluator\n",
    "from orchestrator_agent import create_sql_from_natural_text, visualize_graph\n",
    "visualize_graph()"
   ]
  },
  {
   "cell_type": "code",
   "execution_count": null,
   "metadata": {},
   "outputs": [
    {
     "name": "stdout",
     "output_type": "stream",
     "text": [
      "Creator agent: Feedback: \n",
      "Creator agent: Feedback: [{\"query_result\": \"[]\", \"is_correct\": false, \"feedback\": \"The query did not return any results, which indicates an issue with the query. The field names should not be enclosed in double quotes. Also, check if the 'type' field is correctly filtered.\", \"updated_query\": \"SELECT Label FROM trans WHERE trans_id = 'TR001_10_11' AND type = 'transaction';\"}]\n",
      "Creator agent: Feedback: [{\"query_result\": \"[]\", \"is_correct\": false, \"feedback\": \"The query did not return any results, which indicates an issue with the query. The field names should not be enclosed in double quotes. Also, check if the 'type' field is correctly filtered.\", \"updated_query\": \"SELECT Label FROM trans WHERE trans_id = 'TR001_10_11' AND type = 'transaction';\"}, {\"Natural Language Prompt/ Original Question\": \"What is the label for bond ID TR001_10_11?\", \"Syntactically Incorrect SQL Query\": \"What is the label for bond ID TR001_10_11?\", \"Error Message\": \"Error executing query: no such column: Label\", \"Error Position\": \"Column name 'Label' is not recognized in the query.\", \"Specific Error\": \"The column name 'Label' is not present in any of the tables in the database.\", \"Advise\": \"Check the column names in the relevant tables in the 'financial' database. Make sure to use the correct column name that contains the label information for bond ID TR001_10_11 in the query.\"}]\n",
      "Creator agent: Feedback: [{\"query_result\": \"[]\", \"is_correct\": false, \"feedback\": \"The query did not return any results, which indicates an issue with the query. The field names should not be enclosed in double quotes. Also, check if the 'type' field is correctly filtered.\", \"updated_query\": \"SELECT Label FROM trans WHERE trans_id = 'TR001_10_11' AND type = 'transaction';\"}, {\"Natural Language Prompt/ Original Question\": \"What is the label for bond ID TR001_10_11?\", \"Syntactically Incorrect SQL Query\": \"What is the label for bond ID TR001_10_11?\", \"Error Message\": \"Error executing query: no such column: Label\", \"Error Position\": \"Column name 'Label' is not recognized in the query.\", \"Specific Error\": \"The column name 'Label' is not present in any of the tables in the database.\", \"Advise\": \"Check the column names in the relevant tables in the 'financial' database. Make sure to use the correct column name that contains the label information for bond ID TR001_10_11 in the query.\"}, {\"query_result\": \"[]\", \"is_correct\": false, \"feedback\": \"The query did not return any results, which indicates that the bond ID 'TR001_10_11' may not exist in the database. Check if the 'trans_id' field is correctly specified.\", \"updated_query\": \"SELECT k_symbol FROM trans WHERE bond_id = 'TR001_10_11';\"}]\n",
      "Stopping condition reached: Maximum iterations exceeded\n",
      "Error with final query: no such table: bond\n",
      "Target query: SELECT T2.label FROM bond AS T1 INNER JOIN molecule AS T2 ON T1.molecule_id = T2.molecule_id WHERE T1.bond_id = 'TR001_10_11'\n",
      "Predicted query: SELECT k_symbol FROM trans WHERE trans_id = 'TR001_10_11';\n",
      "Question ID: 279\n",
      "Predicted query: SELECT k_symbol FROM trans WHERE trans_id = 'TR001_10_11';\n",
      "Target query: SELECT T2.label FROM bond AS T1 INNER JOIN molecule AS T2 ON T1.molecule_id = T2.molecule_id WHERE T1.bond_id = 'TR001_10_11'\n",
      "Is correct: [0]\n"
     ]
    },
    {
     "data": {
      "text/plain": [
       "{'question_id': [279],\n",
       " 'predicted_query': [\"SELECT k_symbol FROM trans WHERE trans_id = 'TR001_10_11';\"],\n",
       " 'predicted_database': ['financial'],\n",
       " 'feedbacks': [[{'query_result': '[]',\n",
       "    'is_correct': False,\n",
       "    'feedback': \"The query did not return any results, which indicates an issue with the query. The field names should not be enclosed in double quotes. Also, check if the 'type' field is correctly filtered.\",\n",
       "    'updated_query': \"SELECT Label FROM trans WHERE trans_id = 'TR001_10_11' AND type = 'transaction';\"},\n",
       "   {'Natural Language Prompt/ Original Question': 'What is the label for bond ID TR001_10_11?',\n",
       "    'Syntactically Incorrect SQL Query': 'What is the label for bond ID TR001_10_11?',\n",
       "    'Error Message': 'Error executing query: no such column: Label',\n",
       "    'Error Position': \"Column name 'Label' is not recognized in the query.\",\n",
       "    'Specific Error': \"The column name 'Label' is not present in any of the tables in the database.\",\n",
       "    'Advise': \"Check the column names in the relevant tables in the 'financial' database. Make sure to use the correct column name that contains the label information for bond ID TR001_10_11 in the query.\"},\n",
       "   {'query_result': '[]',\n",
       "    'is_correct': False,\n",
       "    'feedback': \"The query did not return any results, which indicates that the bond ID 'TR001_10_11' may not exist in the database. Check if the 'trans_id' field is correctly specified.\",\n",
       "    'updated_query': \"SELECT k_symbol FROM trans WHERE bond_id = 'TR001_10_11';\"},\n",
       "   {'query_result': '[]',\n",
       "    'is_correct': False,\n",
       "    'feedback': \"The query did not return any results, which indicates that the bond ID 'TR001_10_11' may not exist in the database. Check if the 'trans_id' field is correctly specified.\",\n",
       "    'updated_query': \"SELECT k_symbol FROM trans WHERE bond_id = 'TR001_10_11';\"}]],\n",
       " 'errors': [['Error executing query: no such column: Label']],\n",
       " 'is_correct': [[0]],\n",
       " 'run_status': ['max_iterations_exceeded']}"
      ]
     },
     "execution_count": 6,
     "metadata": {},
     "output_type": "execute_result"
    }
   ],
   "source": [
    "import pandas as pd\n",
    "\n",
    "data_dir = os.getenv(\"DATA_DIRECTORY\")\n",
    "sql_input_file = pd.read_csv(\"../sample/dev.csv\").sample(1)\n",
    "\n",
    "# Config is just for logging purposes and does not affect the run\n",
    "run_config = {\n",
    "    \"k_shot_prompting_creator_agent\": 2,\n",
    "    \"k_shot_prompting_fixer_agent\": 1,\n",
    "    \"k_shot_prompting_feedback_agent\": 2,\n",
    "    \"k_shot_prompting_select_relevant_database\": 0,\n",
    "    \"k_shot_prompting_select_relevant_tables\": 2,\n",
    "    \"llm_orchestrator\": \"gpt4o\",\n",
    "    \"llm_fixer\": \"gpt4o\",\n",
    "    \"llm_feedback\": \"gpt4o\",\n",
    "    \"llm_temperature\": 0\n",
    "}\n",
    "\n",
    "evaluator = ApproachEvaluator(\n",
    "    run_config=run_config,\n",
    "    question_ids=sql_input_file[\"question_id\"],\n",
    "    approach=create_sql_from_natural_text\n",
    ")\n",
    "evaluator.evaluate(verbose=True)"
   ]
  },
  {
   "cell_type": "code",
   "execution_count": 9,
   "metadata": {},
   "outputs": [
    {
     "data": {
      "text/html": [
       "<div>\n",
       "<style scoped>\n",
       "    .dataframe tbody tr th:only-of-type {\n",
       "        vertical-align: middle;\n",
       "    }\n",
       "\n",
       "    .dataframe tbody tr th {\n",
       "        vertical-align: top;\n",
       "    }\n",
       "\n",
       "    .dataframe thead th {\n",
       "        text-align: right;\n",
       "    }\n",
       "</style>\n",
       "<table border=\"1\" class=\"dataframe\">\n",
       "  <thead>\n",
       "    <tr style=\"text-align: right;\">\n",
       "      <th></th>\n",
       "      <th>input_texts</th>\n",
       "      <th>predicted_query</th>\n",
       "      <th>predicted_database</th>\n",
       "      <th>target_queries</th>\n",
       "      <th>is_correct</th>\n",
       "    </tr>\n",
       "  </thead>\n",
       "  <tbody>\n",
       "    <tr>\n",
       "      <th>0</th>\n",
       "      <td>Among the cards with converted mana cost highe...</td>\n",
       "      <td>SELECT COUNT(*) FROM cards WHERE convertedMana...</td>\n",
       "      <td>card_games</td>\n",
       "      <td>SELECT SUM(CASE WHEN T1.power LIKE '*' OR T1.p...</td>\n",
       "      <td>0</td>\n",
       "    </tr>\n",
       "    <tr>\n",
       "      <th>1</th>\n",
       "      <td>Calculate the average home team goal in the 20...</td>\n",
       "      <td>SELECT AVG(home_team_goal) FROM Match WHERE se...</td>\n",
       "      <td>european_football_2</td>\n",
       "      <td>SELECT CAST(SUM(t2.home_team_goal) AS REAL) / ...</td>\n",
       "      <td>1</td>\n",
       "    </tr>\n",
       "    <tr>\n",
       "      <th>2</th>\n",
       "      <td>Which college do most of the members go to?</td>\n",
       "      <td>SQL\\r\\n\\r\\nSELECT college\\r\\nFROM major\\r\\nWHE...</td>\n",
       "      <td>student_club</td>\n",
       "      <td>SELECT T2.college FROM member AS T1 INNER JOIN...</td>\n",
       "      <td>0</td>\n",
       "    </tr>\n",
       "    <tr>\n",
       "      <th>3</th>\n",
       "      <td>Calculate the percentage of molecules containi...</td>\n",
       "      <td>SELECT (CAST(COUNT(DISTINCT(molecule_id)) AS R...</td>\n",
       "      <td>toxicology</td>\n",
       "      <td>SELECT CAST(COUNT(CASE WHEN T1.element = 'h' A...</td>\n",
       "      <td>0</td>\n",
       "    </tr>\n",
       "    <tr>\n",
       "      <th>4</th>\n",
       "      <td>Provide the related post title of \"How to tell...</td>\n",
       "      <td>SELECT \"Post Title\" FROM 'thrombosis_predictio...</td>\n",
       "      <td>thrombosis_prediction</td>\n",
       "      <td>SELECT T3.Title FROM postLinks AS T1 INNER JOI...</td>\n",
       "      <td>0</td>\n",
       "    </tr>\n",
       "  </tbody>\n",
       "</table>\n",
       "</div>"
      ],
      "text/plain": [
       "                                         input_texts  \\\n",
       "0  Among the cards with converted mana cost highe...   \n",
       "1  Calculate the average home team goal in the 20...   \n",
       "2        Which college do most of the members go to?   \n",
       "3  Calculate the percentage of molecules containi...   \n",
       "4  Provide the related post title of \"How to tell...   \n",
       "\n",
       "                                     predicted_query     predicted_database  \\\n",
       "0  SELECT COUNT(*) FROM cards WHERE convertedMana...             card_games   \n",
       "1  SELECT AVG(home_team_goal) FROM Match WHERE se...    european_football_2   \n",
       "2  SQL\\r\\n\\r\\nSELECT college\\r\\nFROM major\\r\\nWHE...           student_club   \n",
       "3  SELECT (CAST(COUNT(DISTINCT(molecule_id)) AS R...             toxicology   \n",
       "4  SELECT \"Post Title\" FROM 'thrombosis_predictio...  thrombosis_prediction   \n",
       "\n",
       "                                      target_queries  is_correct  \n",
       "0  SELECT SUM(CASE WHEN T1.power LIKE '*' OR T1.p...           0  \n",
       "1  SELECT CAST(SUM(t2.home_team_goal) AS REAL) / ...           1  \n",
       "2  SELECT T2.college FROM member AS T1 INNER JOIN...           0  \n",
       "3  SELECT CAST(COUNT(CASE WHEN T1.element = 'h' A...           0  \n",
       "4  SELECT T3.Title FROM postLinks AS T1 INNER JOI...           0  "
      ]
     },
     "execution_count": 9,
     "metadata": {},
     "output_type": "execute_result"
    }
   ],
   "source": [
    "import pandas as pd\n",
    "run = pd.read_csv(\"./results/results_full_run_291124/results.csv\")\n",
    "\n",
    "run.head()"
   ]
  },
  {
   "cell_type": "code",
   "execution_count": 10,
   "metadata": {},
   "outputs": [
    {
     "name": "stdout",
     "output_type": "stream",
     "text": [
      "Valid Efficiency Score: 0.20436181786987834\n"
     ]
    }
   ],
   "source": [
    "from approach_evaluator import valid_efficiency_score\n",
    "\n",
    "ves = valid_efficiency_score(run)\n",
    "\n",
    "print(f\"Valid Efficiency Score: {ves}\")"
   ]
  }
 ],
 "metadata": {
  "kernelspec": {
   "display_name": ".venv",
   "language": "python",
   "name": "python3"
  },
  "language_info": {
   "codemirror_mode": {
    "name": "ipython",
    "version": 3
   },
   "file_extension": ".py",
   "mimetype": "text/x-python",
   "name": "python",
   "nbconvert_exporter": "python",
   "pygments_lexer": "ipython3",
   "version": "3.13.0"
  }
 },
 "nbformat": 4,
 "nbformat_minor": 2
}
