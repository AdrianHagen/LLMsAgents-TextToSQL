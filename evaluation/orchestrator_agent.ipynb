{
 "cells": [
  {
   "cell_type": "markdown",
   "metadata": {},
   "source": [
    "# Evaluation of Multi-Agent approach using an orchestrator"
   ]
  },
  {
   "cell_type": "code",
   "execution_count": 1,
   "metadata": {},
   "outputs": [
    {
     "name": "stdout",
     "output_type": "stream",
     "text": [
      "['/Users/yannikhahn/Code/LLMsAgents-TextToSQL/src', '/Users/yannikhahn/Code/LLMsAgents-TextToSQL/evaluation/src', '/opt/homebrew/Cellar/python@3.12/3.12.6/Frameworks/Python.framework/Versions/3.12/lib/python312.zip', '/opt/homebrew/Cellar/python@3.12/3.12.6/Frameworks/Python.framework/Versions/3.12/lib/python3.12', '/opt/homebrew/Cellar/python@3.12/3.12.6/Frameworks/Python.framework/Versions/3.12/lib/python3.12/lib-dynload', '', '/Users/yannikhahn/Library/Caches/pypoetry/virtualenvs/llmsagents-texttosql-JgGAmzxu-py3.12/lib/python3.12/site-packages', '/Users/i551965/Documents/dev/Uni/LLMsAgents/LLMsAgents-TextToSQL/src/', '/Users/i551965/Documents/dev/Uni/LLMsAgents/LLMsAgents-TextToSQL/src/agents', '/Users/i551965/Documents/dev/Uni/LLMsAgents/LLMsAgents-TextToSQL/src/prompt_templates']\n"
     ]
    },
    {
     "ename": "ModuleNotFoundError",
     "evalue": "No module named 'orchestrator_agent'",
     "output_type": "error",
     "traceback": [
      "\u001b[0;31m---------------------------------------------------------------------------\u001b[0m",
      "\u001b[0;31mModuleNotFoundError\u001b[0m                       Traceback (most recent call last)",
      "Cell \u001b[0;32mIn[1], line 13\u001b[0m\n\u001b[1;32m     11\u001b[0m load_dotenv()\n\u001b[1;32m     12\u001b[0m \u001b[38;5;28;01mfrom\u001b[39;00m \u001b[38;5;21;01mapproach_evaluator\u001b[39;00m \u001b[38;5;28;01mimport\u001b[39;00m ApproachEvaluator\n\u001b[0;32m---> 13\u001b[0m \u001b[38;5;28;01mfrom\u001b[39;00m \u001b[38;5;21;01morchestrator_agent\u001b[39;00m \u001b[38;5;28;01mimport\u001b[39;00m create_sql_from_natural_text, visualize_graph\n\u001b[1;32m     14\u001b[0m visualize_graph()\n",
      "\u001b[0;31mModuleNotFoundError\u001b[0m: No module named 'orchestrator_agent'"
     ]
    }
   ],
   "source": [
    "import sys\n",
    "import os\n",
    "sys.path.append(\"/Users/i551965/Documents/dev/Uni/LLMsAgents/LLMsAgents-TextToSQL/src/\")\n",
    "sys.path.append(\"/Users/i551965/Documents/dev/Uni/LLMsAgents/LLMsAgents-TextToSQL/src/agents\")\n",
    "sys.path.append(\"/Users/i551965/Documents/dev/Uni/LLMsAgents/LLMsAgents-TextToSQL/src/prompt_templates\")\n",
    "from dotenv import load_dotenv\n",
    "\n",
    "sys.path.insert(0, os.path.abspath(\"../src\"))\n",
    "print(sys.path)\n",
    "\n",
    "load_dotenv()\n",
    "from approach_evaluator import ApproachEvaluator\n",
    "from orchestrator_agent import create_sql_from_natural_text, visualize_graph\n",
    "visualize_graph()"
   ]
  },
  {
   "cell_type": "code",
   "execution_count": 2,
   "metadata": {},
   "outputs": [
    {
     "name": "stdout",
     "output_type": "stream",
     "text": [
      "{'query_result': '[(0,)]', 'is_correct': False, 'feedback': \"The query did not return any results, indicating there might be an issue with the filtering conditions or field names. The 'OpenDate' field is not recognized, and the 'StatusType' field should be checked for accuracy.\", 'updated_query': \"SELECT COUNT(*) FROM california_schools WHERE OpenDate BETWEEN '2000-01-01' AND '2005-12-31' AND County = 'Stanislaus' AND StatusType = 'Directly Funded School';\"}\n",
      "{'query_result': '[(0,)]', 'is_correct': False, 'feedback': \"The query did not return any results, indicating there might be an issue with the filtering conditions or field names. The 'OpenDate' field is not recognized, and the 'StatusType' field should be checked for accuracy.\", 'updated_query': \"SELECT COUNT(*) FROM california_schools WHERE OpenDate BETWEEN '2000-01-01' AND '2005-12-31' AND County = 'Stanislaus' AND StatusType = 'Directly Funded School';\"}\n",
      "Orchestrator Agent: An error occurred: 'feedback'\n",
      "Error with final query: Database with name  not found.\n",
      "Target query: SELECT COUNT(School) FROM schools WHERE strftime('%Y', OpenDate) BETWEEN '2000' AND '2005' AND County = 'Stanislaus' AND FundingType = 'Directly funded'\n",
      "Predicted query: \n",
      "{'query_result': '[]', 'is_correct': False, 'feedback': \"The query did not return any results because the condition 'block = 'Masques' AND block = 'Mirage'' is contradictory. It's not possible for a single row to have both 'block' values. You should use 'OR' instead of 'AND' to retrieve sets from either 'Masques' or 'Mirage'.\", 'updated_query': \"SELECT baseSetSize AS 'Set size', code AS 'Set code' FROM sets WHERE block IN ('Masques', 'Mirage');\"}\n",
      "{'query_result': '[]', 'is_correct': False, 'feedback': \"The query did not return any results because the condition 'block = 'Masques' AND block = 'Mirage'' is contradictory. It's not possible for a single row to have both 'block' values. You should use 'OR' instead of 'AND' to retrieve sets from either 'Masques' or 'Mirage'.\", 'updated_query': \"SELECT baseSetSize AS 'Set size', code AS 'Set code' FROM sets WHERE block IN ('Masques', 'Mirage');\"}\n",
      "{'query_result': '[]', 'is_correct': False, 'feedback': \"The query did not return any results because the condition 'block = 'Masques' AND block = 'Mirage'' is contradictory. It's not possible for a single row to have both 'block' values. You should use 'OR' instead of 'AND' to retrieve sets from either 'Masques' or 'Mirage'.\", 'updated_query': \"SELECT baseSetSize AS 'Set size', code AS 'Set code' FROM sets WHERE block IN ('Masques', 'Mirage');\"}\n",
      "Stopping condition reached: Maximum iterations exceeded\n",
      "Predicted result: [(350, 'MIR'), (350, 'MMQ'), (143, 'NEM'), (144, 'PCY'), (1, 'PMMQ'), (1, 'PNEM'), (1, 'PPCY'), (167, 'VIS'), (167, 'WTH')], Target result: [(350, 'MMQ'), (144, 'PCY'), (167, 'WTH')]\n",
      "{'query_result': '[]', 'is_correct': False, 'feedback': \"The query did not return any results, but there should be a keyrune code for the set with code 'PKHC'. The issue might be with the syntax of the column names and the table name. Enclose column names with spaces in double quotes. Also, check for case sensitivity.\", 'updated_query': 'SELECT \"Keyrune Code\" FROM postLinks WHERE \"Code\" = \\'PKHC\\';'}\n",
      "{'query_result': '[]', 'is_correct': False, 'feedback': \"The query did not return any results, but there should be a keyrune code for the set with code 'PKHC'. The issue might be with the syntax of the column names and the table name. Enclose column names with spaces in double quotes. Also, check for case sensitivity.\", 'updated_query': 'SELECT \"Keyrune Code\" FROM postLinks WHERE \"Code\" = \\'PKHC\\';'}\n",
      "{'query_result': '[]', 'is_correct': False, 'feedback': \"The query did not return any results, but there should be a keyrune code for the set with code 'PKHC'. The issue might be with the syntax of the column names and the table name. Enclose column names with spaces in double quotes. Also, check for case sensitivity.\", 'updated_query': 'SELECT \"Keyrune Code\" FROM postLinks WHERE \"Code\" = \\'PKHC\\';'}\n",
      "Stopping condition reached: Maximum iterations exceeded\n",
      "Error with final query: no such table: sets\n",
      "Target query: SELECT keyruneCode FROM sets WHERE code = 'PKHC'\n",
      "Predicted query: SELECT \"Column name: LinkTypeId\" FROM postLinks WHERE \"Column name: PostId\" = 'PKHC';\n"
     ]
    },
    {
     "data": {
      "text/plain": [
       "{'question_id': [489, 66, 442],\n",
       " 'predicted_query': ['',\n",
       "  'SELECT \"baseSetSize\", \"code\" FROM \"sets\" WHERE \"block\" = \\'Masques\\' OR \"block\" = \\'Mirage\\';',\n",
       "  'SELECT \"Column name: LinkTypeId\" FROM postLinks WHERE \"Column name: PostId\" = \\'PKHC\\';'],\n",
       " 'predicted_database': ['', 'card_games', 'codebase_community'],\n",
       " 'feedbacks': [[],\n",
       "  [{'query_result': '[]',\n",
       "    'is_correct': False,\n",
       "    'feedback': \"The query did not return any results because the condition 'block = 'Masques' AND block = 'Mirage'' is contradictory. It's not possible for a single row to have both 'block' values. You should use 'OR' instead of 'AND' to retrieve sets from either 'Masques' or 'Mirage'.\",\n",
       "    'updated_query': \"SELECT baseSetSize AS 'Set size', code AS 'Set code' FROM sets WHERE block IN ('Masques', 'Mirage');\"},\n",
       "   {'query_result': \"[(350, 'MIR'), (350, 'MMQ'), (143, 'NEM'), (144, 'PCY'), (1, 'PMMQ'), (1, 'PNEM'), (1, 'PPCY'), (167, 'VIS'), (167, 'WTH')]\",\n",
       "    'is_correct': False,\n",
       "    'feedback': \"The query result includes the base set size and set code, but it is not filtered based on the block names 'Masques' and 'Mirage'. The WHERE clause should be modified to filter the results based on the block names specified in the original question.\",\n",
       "    'updated_query': \"SELECT baseSetSize, code FROM sets WHERE block IN ('Masques', 'Mirage');\"},\n",
       "   {'query_result': \"[(350, 'MIR'), (350, 'MMQ'), (143, 'NEM'), (144, 'PCY'), (1, 'PMMQ'), (1, 'PNEM'), (1, 'PPCY'), (167, 'VIS'), (167, 'WTH')]\",\n",
       "    'is_correct': False,\n",
       "    'feedback': \"The query did not correctly filter the sets based on both 'Masques' and 'Mirage'. The OR operator is not suitable for this condition as it retrieves sets from either 'Masques' or 'Mirage'. Use the AND operator to filter sets that belong to both 'Masques' and 'Mirage'.\",\n",
       "    'updated_query': \"SELECT baseSetSize, code FROM sets WHERE block = 'Masques' AND code IN (SELECT code FROM sets WHERE block = 'Mirage');\"},\n",
       "   {'query_result': \"[(350, 'MIR'), (350, 'MMQ'), (143, 'NEM'), (144, 'PCY'), (1, 'PMMQ'), (1, 'PNEM'), (1, 'PPCY'), (167, 'VIS'), (167, 'WTH')]\",\n",
       "    'is_correct': False,\n",
       "    'feedback': \"The query did not correctly filter the sets based on both 'Masques' and 'Mirage'. The OR condition is causing the query to retrieve sets from either 'Masques' or 'Mirage'. It should use an AND condition to retrieve sets that belong to both 'Masques' and 'Mirage'.\",\n",
       "    'updated_query': \"SELECT baseSetSize, code FROM sets WHERE block = 'Masques' AND code IN (SELECT code FROM sets WHERE block = 'Mirage');\"}],\n",
       "  [{'query_result': '[]',\n",
       "    'is_correct': False,\n",
       "    'feedback': \"The query did not return any results, but there should be a keyrune code for the set with code 'PKHC'. The issue might be with the syntax of the column names and the table name. Enclose column names with spaces in double quotes. Also, check for case sensitivity.\",\n",
       "    'updated_query': 'SELECT \"Keyrune Code\" FROM postLinks WHERE \"Code\" = \\'PKHC\\';'},\n",
       "   {'query_result': '[]',\n",
       "    'is_correct': False,\n",
       "    'feedback': \"The query did not return any results, but there should be a keyrune code for the set with code 'PKHC'. The issue is with the column names having double quotes which is not standard SQL syntax.\",\n",
       "    'updated_query': \"SELECT KeyruneCode FROM postLinks WHERE Code = 'PKHC';\"},\n",
       "   {'query_result': '[]',\n",
       "    'is_correct': False,\n",
       "    'feedback': 'The query did not return any results, which indicates there might be an issue with the column names or syntax used in the query. Check the column names and ensure proper quoting.',\n",
       "    'updated_query': \"SELECT Keyrune_Code FROM postLinks WHERE Code = 'PKHC';\"},\n",
       "   {'query_result': '[]',\n",
       "    'is_correct': False,\n",
       "    'feedback': 'The query did not return any results, and the syntax of the query seems to be incorrect. The column names should not be enclosed in double quotes. Also, the table name and column names are not related to the original question. Check and correct the table and column names.',\n",
       "    'updated_query': \"SELECT keyrune_code FROM set_table WHERE set_code = 'PKHC';\"}]],\n",
       " 'errors': [[], [], []],\n",
       " 'is_correct': [[0], [0], [0]]}"
      ]
     },
     "execution_count": 2,
     "metadata": {},
     "output_type": "execute_result"
    }
   ],
   "source": [
    "import pandas as pd\n",
    "\n",
    "data_dir = os.getenv(\"DATA_DIRECTORY\")\n",
    "sql_input_file = pd.read_csv(\"../sample/dev.csv\").sample(3)\n",
    "\n",
    "# Config is just for logging purposes and does not affect the run\n",
    "run_config = {\n",
    "    \"k_shot_prompting_creator_agent\": 2,\n",
    "    \"k_shot_prompting_fixer_agent\": 1,\n",
    "    \"k_shot_prompting_feedback_agent\": 2,\n",
    "    \"k_shot_prompting_select_relevant_database\": 0,\n",
    "    \"k_shot_prompting_select_relevant_tables\": 2\n",
    "}\n",
    "\n",
    "evaluator = ApproachEvaluator(\n",
    "    run_config=run_config,\n",
    "    question_ids=sql_input_file[\"question_id\"],\n",
    "    approach=create_sql_from_natural_text\n",
    ")\n",
    "evaluator.evaluate()"
   ]
  },
  {
   "cell_type": "code",
   "execution_count": 2,
   "metadata": {},
   "outputs": [
    {
     "data": {
      "text/html": [
       "<div>\n",
       "<style scoped>\n",
       "    .dataframe tbody tr th:only-of-type {\n",
       "        vertical-align: middle;\n",
       "    }\n",
       "\n",
       "    .dataframe tbody tr th {\n",
       "        vertical-align: top;\n",
       "    }\n",
       "\n",
       "    .dataframe thead th {\n",
       "        text-align: right;\n",
       "    }\n",
       "</style>\n",
       "<table border=\"1\" class=\"dataframe\">\n",
       "  <thead>\n",
       "    <tr style=\"text-align: right;\">\n",
       "      <th></th>\n",
       "      <th>input_texts</th>\n",
       "      <th>predicted_query</th>\n",
       "      <th>predicted_database</th>\n",
       "      <th>target_queries</th>\n",
       "      <th>is_correct</th>\n",
       "    </tr>\n",
       "  </thead>\n",
       "  <tbody>\n",
       "    <tr>\n",
       "      <th>0</th>\n",
       "      <td>Among the cards with converted mana cost highe...</td>\n",
       "      <td>SELECT COUNT(*) FROM cards WHERE convertedMana...</td>\n",
       "      <td>card_games</td>\n",
       "      <td>SELECT SUM(CASE WHEN T1.power LIKE '*' OR T1.p...</td>\n",
       "      <td>0</td>\n",
       "    </tr>\n",
       "    <tr>\n",
       "      <th>1</th>\n",
       "      <td>Calculate the average home team goal in the 20...</td>\n",
       "      <td>SELECT AVG(home_team_goal) FROM Match WHERE se...</td>\n",
       "      <td>european_football_2</td>\n",
       "      <td>SELECT CAST(SUM(t2.home_team_goal) AS REAL) / ...</td>\n",
       "      <td>1</td>\n",
       "    </tr>\n",
       "    <tr>\n",
       "      <th>2</th>\n",
       "      <td>Which college do most of the members go to?</td>\n",
       "      <td>SQL\\r\\n\\r\\nSELECT college\\r\\nFROM major\\r\\nWHE...</td>\n",
       "      <td>student_club</td>\n",
       "      <td>SELECT T2.college FROM member AS T1 INNER JOIN...</td>\n",
       "      <td>0</td>\n",
       "    </tr>\n",
       "    <tr>\n",
       "      <th>3</th>\n",
       "      <td>Calculate the percentage of molecules containi...</td>\n",
       "      <td>SELECT (CAST(COUNT(DISTINCT(molecule_id)) AS R...</td>\n",
       "      <td>toxicology</td>\n",
       "      <td>SELECT CAST(COUNT(CASE WHEN T1.element = 'h' A...</td>\n",
       "      <td>0</td>\n",
       "    </tr>\n",
       "    <tr>\n",
       "      <th>4</th>\n",
       "      <td>Provide the related post title of \"How to tell...</td>\n",
       "      <td>SELECT \"Post Title\" FROM 'thrombosis_predictio...</td>\n",
       "      <td>thrombosis_prediction</td>\n",
       "      <td>SELECT T3.Title FROM postLinks AS T1 INNER JOI...</td>\n",
       "      <td>0</td>\n",
       "    </tr>\n",
       "  </tbody>\n",
       "</table>\n",
       "</div>"
      ],
      "text/plain": [
       "                                         input_texts  \\\n",
       "0  Among the cards with converted mana cost highe...   \n",
       "1  Calculate the average home team goal in the 20...   \n",
       "2        Which college do most of the members go to?   \n",
       "3  Calculate the percentage of molecules containi...   \n",
       "4  Provide the related post title of \"How to tell...   \n",
       "\n",
       "                                     predicted_query     predicted_database  \\\n",
       "0  SELECT COUNT(*) FROM cards WHERE convertedMana...             card_games   \n",
       "1  SELECT AVG(home_team_goal) FROM Match WHERE se...    european_football_2   \n",
       "2  SQL\\r\\n\\r\\nSELECT college\\r\\nFROM major\\r\\nWHE...           student_club   \n",
       "3  SELECT (CAST(COUNT(DISTINCT(molecule_id)) AS R...             toxicology   \n",
       "4  SELECT \"Post Title\" FROM 'thrombosis_predictio...  thrombosis_prediction   \n",
       "\n",
       "                                      target_queries  is_correct  \n",
       "0  SELECT SUM(CASE WHEN T1.power LIKE '*' OR T1.p...           0  \n",
       "1  SELECT CAST(SUM(t2.home_team_goal) AS REAL) / ...           1  \n",
       "2  SELECT T2.college FROM member AS T1 INNER JOIN...           0  \n",
       "3  SELECT CAST(COUNT(CASE WHEN T1.element = 'h' A...           0  \n",
       "4  SELECT T3.Title FROM postLinks AS T1 INNER JOI...           0  "
      ]
     },
     "execution_count": 2,
     "metadata": {},
     "output_type": "execute_result"
    }
   ],
   "source": [
    "import pandas as pd\n",
    "run = pd.read_csv(\"./results/results_full_run_291124/results.csv\")\n",
    "\n",
    "run.head()"
   ]
  },
  {
   "cell_type": "code",
   "execution_count": 3,
   "metadata": {},
   "outputs": [
    {
     "name": "stdout",
     "output_type": "stream",
     "text": [
      "Valid Efficiency Score: 0.19128302335913877\n"
     ]
    }
   ],
   "source": [
    "from approach_evaluator import valid_efficiency_score\n",
    "\n",
    "ves = valid_efficiency_score(run)\n",
    "\n",
    "print(f\"Valid Efficiency Score: {ves}\")"
   ]
  }
 ],
 "metadata": {
  "kernelspec": {
   "display_name": "llmsagents-texttosql-JgGAmzxu-py3.12",
   "language": "python",
   "name": "python3"
  },
  "language_info": {
   "codemirror_mode": {
    "name": "ipython",
    "version": 3
   },
   "file_extension": ".py",
   "mimetype": "text/x-python",
   "name": "python",
   "nbconvert_exporter": "python",
   "pygments_lexer": "ipython3",
   "version": "3.12.6"
  }
 },
 "nbformat": 4,
 "nbformat_minor": 2
}
