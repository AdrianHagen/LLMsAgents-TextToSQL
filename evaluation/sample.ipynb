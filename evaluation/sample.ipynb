{
 "cells": [
  {
   "cell_type": "code",
   "execution_count": 1,
   "metadata": {},
   "outputs": [
    {
     "name": "stdout",
     "output_type": "stream",
     "text": [
      "['/Users/yannikhahn/Code/LLMsAgents-TextToSQL/src', '/Users/yannikhahn/Code/LLMsAgents-TextToSQL/evaulation/src', '/opt/homebrew/Cellar/python@3.12/3.12.6/Frameworks/Python.framework/Versions/3.12/lib/python312.zip', '/opt/homebrew/Cellar/python@3.12/3.12.6/Frameworks/Python.framework/Versions/3.12/lib/python3.12', '/opt/homebrew/Cellar/python@3.12/3.12.6/Frameworks/Python.framework/Versions/3.12/lib/python3.12/lib-dynload', '', '/Users/yannikhahn/Library/Caches/pypoetry/virtualenvs/llmsagents-texttosql-JgGAmzxu-py3.12/lib/python3.12/site-packages']\n"
     ]
    },
    {
     "data": {
      "text/plain": [
       "True"
      ]
     },
     "execution_count": 1,
     "metadata": {},
     "output_type": "execute_result"
    }
   ],
   "source": [
    "import sys\n",
    "\n",
    "from dotenv import load_dotenv\n",
    "\n",
    "sys.path.insert(0, os.path.abspath(\"../src\"))\n",
    "print(sys.path)\n",
    "\n",
    "load_dotenv()"
   ]
  },
  {
   "cell_type": "code",
   "execution_count": 2,
   "metadata": {},
   "outputs": [
    {
     "data": {
      "text/html": [
       "<div>\n",
       "<style scoped>\n",
       "    .dataframe tbody tr th:only-of-type {\n",
       "        vertical-align: middle;\n",
       "    }\n",
       "\n",
       "    .dataframe tbody tr th {\n",
       "        vertical-align: top;\n",
       "    }\n",
       "\n",
       "    .dataframe thead th {\n",
       "        text-align: right;\n",
       "    }\n",
       "</style>\n",
       "<table border=\"1\" class=\"dataframe\">\n",
       "  <thead>\n",
       "    <tr style=\"text-align: right;\">\n",
       "      <th></th>\n",
       "      <th>question_id</th>\n",
       "      <th>db_id</th>\n",
       "      <th>question</th>\n",
       "      <th>evidence</th>\n",
       "      <th>SQL</th>\n",
       "      <th>difficulty</th>\n",
       "    </tr>\n",
       "  </thead>\n",
       "  <tbody>\n",
       "    <tr>\n",
       "      <th>0</th>\n",
       "      <td>0</td>\n",
       "      <td>california_schools</td>\n",
       "      <td>What is the highest eligible free rate for K-1...</td>\n",
       "      <td>Eligible free rate for K-12 = `Free Meal Count...</td>\n",
       "      <td>SELECT `Free Meal Count (K-12)` / `Enrollment ...</td>\n",
       "      <td>simple</td>\n",
       "    </tr>\n",
       "    <tr>\n",
       "      <th>1</th>\n",
       "      <td>1</td>\n",
       "      <td>california_schools</td>\n",
       "      <td>Please list the lowest three eligible free rat...</td>\n",
       "      <td>Eligible free rates for students aged 5-17 = `...</td>\n",
       "      <td>SELECT `Free Meal Count (Ages 5-17)` / `Enroll...</td>\n",
       "      <td>moderate</td>\n",
       "    </tr>\n",
       "    <tr>\n",
       "      <th>2</th>\n",
       "      <td>2</td>\n",
       "      <td>california_schools</td>\n",
       "      <td>Please list the zip code of all the charter sc...</td>\n",
       "      <td>Charter schools refers to `Charter School (Y/N...</td>\n",
       "      <td>SELECT T2.Zip FROM frpm AS T1 INNER JOIN schoo...</td>\n",
       "      <td>simple</td>\n",
       "    </tr>\n",
       "    <tr>\n",
       "      <th>3</th>\n",
       "      <td>3</td>\n",
       "      <td>california_schools</td>\n",
       "      <td>What is the unabbreviated mailing street addre...</td>\n",
       "      <td></td>\n",
       "      <td>SELECT T2.MailStreet FROM frpm AS T1 INNER JOI...</td>\n",
       "      <td>simple</td>\n",
       "    </tr>\n",
       "    <tr>\n",
       "      <th>4</th>\n",
       "      <td>4</td>\n",
       "      <td>california_schools</td>\n",
       "      <td>Please list the phone numbers of the direct ch...</td>\n",
       "      <td>Charter schools refers to `Charter School (Y/N...</td>\n",
       "      <td>SELECT T2.Phone FROM frpm AS T1 INNER JOIN sch...</td>\n",
       "      <td>moderate</td>\n",
       "    </tr>\n",
       "  </tbody>\n",
       "</table>\n",
       "</div>"
      ],
      "text/plain": [
       "   question_id               db_id  \\\n",
       "0            0  california_schools   \n",
       "1            1  california_schools   \n",
       "2            2  california_schools   \n",
       "3            3  california_schools   \n",
       "4            4  california_schools   \n",
       "\n",
       "                                            question  \\\n",
       "0  What is the highest eligible free rate for K-1...   \n",
       "1  Please list the lowest three eligible free rat...   \n",
       "2  Please list the zip code of all the charter sc...   \n",
       "3  What is the unabbreviated mailing street addre...   \n",
       "4  Please list the phone numbers of the direct ch...   \n",
       "\n",
       "                                            evidence  \\\n",
       "0  Eligible free rate for K-12 = `Free Meal Count...   \n",
       "1  Eligible free rates for students aged 5-17 = `...   \n",
       "2  Charter schools refers to `Charter School (Y/N...   \n",
       "3                                                      \n",
       "4  Charter schools refers to `Charter School (Y/N...   \n",
       "\n",
       "                                                 SQL difficulty  \n",
       "0  SELECT `Free Meal Count (K-12)` / `Enrollment ...     simple  \n",
       "1  SELECT `Free Meal Count (Ages 5-17)` / `Enroll...   moderate  \n",
       "2  SELECT T2.Zip FROM frpm AS T1 INNER JOIN schoo...     simple  \n",
       "3  SELECT T2.MailStreet FROM frpm AS T1 INNER JOI...     simple  \n",
       "4  SELECT T2.Phone FROM frpm AS T1 INNER JOIN sch...   moderate  "
      ]
     },
     "execution_count": 2,
     "metadata": {},
     "output_type": "execute_result"
    }
   ],
   "source": [
    "import pandas as pd\n",
    "\n",
    "df = pd.read_json(\"../data/dev/dev.json\")\n",
    "\n",
    "df.head()"
   ]
  },
  {
   "cell_type": "code",
   "execution_count": 3,
   "metadata": {},
   "outputs": [
    {
     "name": "stdout",
     "output_type": "stream",
     "text": [
      "difficulty\n",
      "simple         60.299870\n",
      "moderate       30.247718\n",
      "challenging     9.452412\n",
      "Name: proportion, dtype: float64\n"
     ]
    }
   ],
   "source": [
    "percentages = df[\"difficulty\"].value_counts(normalize=True) * 100\n",
    "\n",
    "print(percentages)"
   ]
  },
  {
   "cell_type": "code",
   "execution_count": 4,
   "metadata": {},
   "outputs": [
    {
     "data": {
      "text/plain": [
       "difficulty\n",
       "simple         63.0\n",
       "moderate       30.0\n",
       "challenging     7.0\n",
       "Name: proportion, dtype: float64"
      ]
     },
     "execution_count": 4,
     "metadata": {},
     "output_type": "execute_result"
    }
   ],
   "source": [
    "sample = df.sample(100 , random_state=0)\n",
    "\n",
    "sample_distribution = sample[\"difficulty\"].value_counts(normalize=True) * 100\n",
    "\n",
    "sample_distribution"
   ]
  },
  {
   "cell_type": "code",
   "execution_count": 5,
   "metadata": {},
   "outputs": [
    {
     "ename": "KeyboardInterrupt",
     "evalue": "",
     "output_type": "error",
     "traceback": [
      "\u001b[0;31m---------------------------------------------------------------------------\u001b[0m",
      "\u001b[0;31mKeyboardInterrupt\u001b[0m                         Traceback (most recent call last)",
      "Cell \u001b[0;32mIn[5], line 4\u001b[0m\n\u001b[1;32m      1\u001b[0m \u001b[38;5;28;01mfrom\u001b[39;00m \u001b[38;5;21;01mapproach_evaluator\u001b[39;00m \u001b[38;5;28;01mimport\u001b[39;00m avg_execution_time\n\u001b[1;32m      2\u001b[0m \u001b[38;5;28;01mimport\u001b[39;00m \u001b[38;5;21;01mnumpy\u001b[39;00m \u001b[38;5;28;01mas\u001b[39;00m \u001b[38;5;21;01mnp\u001b[39;00m\n\u001b[0;32m----> 4\u001b[0m sample[\u001b[38;5;124m\"\u001b[39m\u001b[38;5;124mexecution_time\u001b[39m\u001b[38;5;124m\"\u001b[39m] \u001b[38;5;241m=\u001b[39m \u001b[43mavg_execution_time\u001b[49m\u001b[43m(\u001b[49m\u001b[43msample\u001b[49m\u001b[43m[\u001b[49m\u001b[38;5;124;43m\"\u001b[39;49m\u001b[38;5;124;43mdb_id\u001b[39;49m\u001b[38;5;124;43m\"\u001b[39;49m\u001b[43m]\u001b[49m\u001b[43m,\u001b[49m\u001b[43m \u001b[49m\u001b[43msample\u001b[49m\u001b[43m[\u001b[49m\u001b[38;5;124;43m\"\u001b[39;49m\u001b[38;5;124;43mSQL\u001b[39;49m\u001b[38;5;124;43m\"\u001b[39;49m\u001b[43m]\u001b[49m\u001b[43m)\u001b[49m\n\u001b[1;32m      6\u001b[0m sample\u001b[38;5;241m.\u001b[39mhead()\n",
      "File \u001b[0;32m~/Code/LLMsAgents-TextToSQL/src/approach_evaluator.py:174\u001b[0m, in \u001b[0;36mavg_execution_time\u001b[0;34m(db_ids, queries)\u001b[0m\n\u001b[1;32m    171\u001b[0m db \u001b[38;5;241m=\u001b[39m Database(db_id)\n\u001b[1;32m    173\u001b[0m \u001b[38;5;28;01mfor\u001b[39;00m i \u001b[38;5;129;01min\u001b[39;00m \u001b[38;5;28mrange\u001b[39m(\u001b[38;5;241m100\u001b[39m):\n\u001b[0;32m--> 174\u001b[0m     _, execution_time \u001b[38;5;241m=\u001b[39m \u001b[43mdb\u001b[49m\u001b[38;5;241;43m.\u001b[39;49m\u001b[43mexecute_query\u001b[49m\u001b[43m(\u001b[49m\u001b[43mquery\u001b[49m\u001b[43m)\u001b[49m\n\u001b[1;32m    175\u001b[0m     \u001b[38;5;28;01mif\u001b[39;00m execution_time \u001b[38;5;241m>\u001b[39m \u001b[38;5;241m30\u001b[39m:\n\u001b[1;32m    176\u001b[0m         execution_time \u001b[38;5;241m=\u001b[39m \u001b[38;5;241m30\u001b[39m\n",
      "File \u001b[0;32m~/Code/LLMsAgents-TextToSQL/src/tools/database.py:60\u001b[0m, in \u001b[0;36mDatabase.execute_query\u001b[0;34m(self, query, params)\u001b[0m\n\u001b[1;32m     57\u001b[0m start_time \u001b[38;5;241m=\u001b[39m timeit\u001b[38;5;241m.\u001b[39mdefault_timer()\n\u001b[1;32m     58\u001b[0m cursor\u001b[38;5;241m.\u001b[39mexecute(query, params)\n\u001b[0;32m---> 60\u001b[0m results \u001b[38;5;241m=\u001b[39m \u001b[43mcursor\u001b[49m\u001b[38;5;241;43m.\u001b[39;49m\u001b[43mfetchall\u001b[49m\u001b[43m(\u001b[49m\u001b[43m)\u001b[49m\n\u001b[1;32m     61\u001b[0m cursor\u001b[38;5;241m.\u001b[39mclose()\n\u001b[1;32m     63\u001b[0m execution_time \u001b[38;5;241m=\u001b[39m timeit\u001b[38;5;241m.\u001b[39mdefault_timer() \u001b[38;5;241m-\u001b[39m start_time\n",
      "\u001b[0;31mKeyboardInterrupt\u001b[0m: "
     ]
    }
   ],
   "source": [
    "from approach_evaluator import avg_execution_time\n",
    "import numpy as np\n",
    "\n",
    "sample[\"execution_time\"] = avg_execution_time(sample[\"db_id\"], sample[\"SQL\"])\n",
    "\n",
    "sample.head()"
   ]
  },
  {
   "cell_type": "code",
   "execution_count": null,
   "metadata": {},
   "outputs": [],
   "source": [
    "os.makedirs(\"../sample\", exist_ok=True)\n",
    "\n",
    "sample.to_csv(\"../sample/dev.csv\", index=False)"
   ]
  }
 ],
 "metadata": {
  "kernelspec": {
   "display_name": "llmsagents-texttosql-JgGAmzxu-py3.12",
   "language": "python",
   "name": "python3"
  },
  "language_info": {
   "codemirror_mode": {
    "name": "ipython",
    "version": 3
   },
   "file_extension": ".py",
   "mimetype": "text/x-python",
   "name": "python",
   "nbconvert_exporter": "python",
   "pygments_lexer": "ipython3",
   "version": "3.12.6"
  }
 },
 "nbformat": 4,
 "nbformat_minor": 2
}
