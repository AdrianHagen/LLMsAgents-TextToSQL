{
 "cells": [
  {
   "cell_type": "markdown",
   "metadata": {},
   "source": [
    "# Optimizer parameters for our agentic approach"
   ]
  },
  {
   "cell_type": "code",
   "execution_count": null,
   "metadata": {},
   "outputs": [],
   "source": [
    "#from langchain_ollama.chat_models import ChatOllama\n",
    "#from langchain_openai import ChatOpenAI\n",
    "from langchain_openai import ChatOpenAI\n",
    "from agents.feedback_agent import FeedbackAgent\n",
    "\n",
    "from gen_ai_hub.proxy.langchain.google_vertexai import init_chat_model as google_init_chat_model, ChatVertexAI\n",
    "from gen_ai_hub.proxy.langchain.openai import ChatOpenAI \n",
    "from gen_ai_hub.proxy.langchain.amazon import ChatBedrock\n",
    "from gen_ai_hub.proxy.langchain.amazon import init_chat_model as amazon_init_chat_model\n",
    "from gen_ai_hub.proxy.langchain.init_models import init_llm\n",
    "\n",
    "from gen_ai_hub.proxy.core.proxy_clients import get_proxy_client\n",
    "\n",
    "model_name = \"claude-3-5-sonnet-20240620\"\n",
    "dataset_name = \"bird-noisy\"\n",
    "# llm = ChatOllama(model=\"mistral\")\n",
    "#llm = ChatOpenAI(model=\"gpt-4o-mini\")\n",
    "model = 'anthropic--claude-3.5-sonnet'\n",
    "model_id = 'anthropic.claude-3-5-sonnet-20240620-v1:0'\n",
    "init_func = amazon_init_chat_model\n",
    "claude = init_llm(model, model_id=model_id, init_func=init_func)\n"
   ]
  },
  {
   "cell_type": "code",
   "execution_count": null,
   "metadata": {},
   "outputs": [],
   "source": [
    "import prompt_templates.feedback_agent as feedback_agent_prompts\n",
    "import prompt_templates.creator_agent as creator_agent_prompts\n",
    "\n",
    "AVAILABLE_LLMS = [\n",
    "    {\n",
    "        \"name\": \"gpt-4o-mini\",\n",
    "        \"model\": ChatOpenAI(proxy_model_name=\"gpt-4o-mini\", proxy_client=get_proxy_client(\"gen-ai-hub\")),\n",
    "    },\n",
    "    {\n",
    "        \"name\": \"gemini-1.5-pro\",\n",
    "        \"model\": ChatVertexAI(proxy_model_name=\"gemini-1.5-pro\", proxy_client=get_proxy_client(\"gen-ai-hub\")),\n",
    "    },\n",
    "]\n",
    "AVAILABLE_PROMPTING_TECHNIQUES_CREATOR = [\n",
    "    {\n",
    "        \"name\": \"zero-shot\",\n",
    "        \"prompt\": creator_agent_prompts.ZERO_SHOT,\n",
    "    },\n",
    "    {\n",
    "        \"name\": \"one-shot\",\n",
    "        \"prompt\": creator_agent_prompts.ONE_SHOT,\n",
    "    },\n",
    "    {\n",
    "        \"name\": \"two-shot\",\n",
    "        \"prompt\": creator_agent_prompts.TWO_SHOT,\n",
    "    },\n",
    "    \n",
    "]"
   ]
  },
  {
   "cell_type": "code",
   "execution_count": 2,
   "metadata": {},
   "outputs": [],
   "source": [
    "from datetime import datetime\n",
    "import os\n",
    "\n",
    "\n",
    "config = {\n",
    "    \"feedback_agent_model\": \"\",\n",
    "    \"fixer_agent_model\": \"\",\n",
    "    \"creater_agent_model\": \"\",\n",
    "    \"orchestrator_agent_model\": \"\",\n",
    "}\n",
    "\n",
    "config_file_name = f\"runs/orchestrator_agent/{datetime.now().strftime('%Y-%m-%d-%H-%M-%S')}-config.json\"\n",
    "results_file_name = f\"runs/orchestrator_agent/{datetime.now().strftime('%Y-%m-%d-%H-%M-%S')}.csv\"\n",
    "\n",
    "os.makedirs(os.path.dirname(config_file_name), exist_ok=True)\n",
    "os.makedirs(os.path.dirname(results_file_name), exist_ok=True)"
   ]
  },
  {
   "cell_type": "code",
   "execution_count": null,
   "metadata": {},
   "outputs": [],
   "source": []
  }
 ],
 "metadata": {
  "kernelspec": {
   "display_name": "llmsagents-texttosql-bQPeKkIa-py3.12",
   "language": "python",
   "name": "python3"
  },
  "language_info": {
   "codemirror_mode": {
    "name": "ipython",
    "version": 3
   },
   "file_extension": ".py",
   "mimetype": "text/x-python",
   "name": "python",
   "nbconvert_exporter": "python",
   "pygments_lexer": "ipython3",
   "version": "3.12.6"
  }
 },
 "nbformat": 4,
 "nbformat_minor": 2
}
